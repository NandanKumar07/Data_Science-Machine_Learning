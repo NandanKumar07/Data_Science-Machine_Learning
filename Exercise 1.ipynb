{
 "cells": [
  {
   "cell_type": "code",
   "execution_count": 1,
   "id": "56f15f87",
   "metadata": {},
   "outputs": [],
   "source": [
    "# Using Bollywood Dataset to Answer Question 1 to 12."
   ]
  },
  {
   "cell_type": "code",
   "execution_count": 2,
   "id": "84ef4aaa",
   "metadata": {},
   "outputs": [],
   "source": [
    "# importing library\n",
    "\n",
    "import pandas as pd\n",
    "import matplotlib.pyplot as plt\n",
    "%matplotlib inline"
   ]
  },
  {
   "cell_type": "code",
   "execution_count": 6,
   "id": "8b023698",
   "metadata": {},
   "outputs": [
    {
     "data": {
      "text/html": [
       "<div>\n",
       "<style scoped>\n",
       "    .dataframe tbody tr th:only-of-type {\n",
       "        vertical-align: middle;\n",
       "    }\n",
       "\n",
       "    .dataframe tbody tr th {\n",
       "        vertical-align: top;\n",
       "    }\n",
       "\n",
       "    .dataframe thead th {\n",
       "        text-align: right;\n",
       "    }\n",
       "</style>\n",
       "<table border=\"1\" class=\"dataframe\">\n",
       "  <thead>\n",
       "    <tr style=\"text-align: right;\">\n",
       "      <th></th>\n",
       "      <th>SlNo</th>\n",
       "      <th>Release Date</th>\n",
       "      <th>MovieName</th>\n",
       "      <th>ReleaseTime</th>\n",
       "      <th>Genre</th>\n",
       "      <th>Budget</th>\n",
       "      <th>BoxOfficeCollection</th>\n",
       "      <th>YoutubeViews</th>\n",
       "      <th>YoutubeLikes</th>\n",
       "      <th>YoutubeDislikes</th>\n",
       "    </tr>\n",
       "  </thead>\n",
       "  <tbody>\n",
       "    <tr>\n",
       "      <th>0</th>\n",
       "      <td>1</td>\n",
       "      <td>18-Apr-14</td>\n",
       "      <td>2 States</td>\n",
       "      <td>LW</td>\n",
       "      <td>Romance</td>\n",
       "      <td>36</td>\n",
       "      <td>104.00</td>\n",
       "      <td>8576361</td>\n",
       "      <td>26622</td>\n",
       "      <td>2527</td>\n",
       "    </tr>\n",
       "    <tr>\n",
       "      <th>1</th>\n",
       "      <td>2</td>\n",
       "      <td>4-Jan-13</td>\n",
       "      <td>Table No. 21</td>\n",
       "      <td>N</td>\n",
       "      <td>Thriller</td>\n",
       "      <td>10</td>\n",
       "      <td>12.00</td>\n",
       "      <td>1087320</td>\n",
       "      <td>1129</td>\n",
       "      <td>137</td>\n",
       "    </tr>\n",
       "    <tr>\n",
       "      <th>2</th>\n",
       "      <td>3</td>\n",
       "      <td>18-Jul-14</td>\n",
       "      <td>Amit Sahni Ki List</td>\n",
       "      <td>N</td>\n",
       "      <td>Comedy</td>\n",
       "      <td>10</td>\n",
       "      <td>4.00</td>\n",
       "      <td>572336</td>\n",
       "      <td>586</td>\n",
       "      <td>54</td>\n",
       "    </tr>\n",
       "    <tr>\n",
       "      <th>3</th>\n",
       "      <td>4</td>\n",
       "      <td>4-Jan-13</td>\n",
       "      <td>Rajdhani Express</td>\n",
       "      <td>N</td>\n",
       "      <td>Drama</td>\n",
       "      <td>7</td>\n",
       "      <td>0.35</td>\n",
       "      <td>42626</td>\n",
       "      <td>86</td>\n",
       "      <td>19</td>\n",
       "    </tr>\n",
       "    <tr>\n",
       "      <th>4</th>\n",
       "      <td>5</td>\n",
       "      <td>4-Jul-14</td>\n",
       "      <td>Bobby Jasoos</td>\n",
       "      <td>N</td>\n",
       "      <td>Comedy</td>\n",
       "      <td>18</td>\n",
       "      <td>10.80</td>\n",
       "      <td>3113427</td>\n",
       "      <td>4512</td>\n",
       "      <td>1224</td>\n",
       "    </tr>\n",
       "  </tbody>\n",
       "</table>\n",
       "</div>"
      ],
      "text/plain": [
       "   SlNo Release Date           MovieName ReleaseTime      Genre  Budget  \\\n",
       "0     1    18-Apr-14            2 States          LW    Romance      36   \n",
       "1     2     4-Jan-13        Table No. 21           N  Thriller       10   \n",
       "2     3    18-Jul-14  Amit Sahni Ki List           N     Comedy      10   \n",
       "3     4     4-Jan-13    Rajdhani Express           N     Drama        7   \n",
       "4     5     4-Jul-14        Bobby Jasoos           N     Comedy      18   \n",
       "\n",
       "   BoxOfficeCollection  YoutubeViews  YoutubeLikes  YoutubeDislikes  \n",
       "0               104.00       8576361         26622             2527  \n",
       "1                12.00       1087320          1129              137  \n",
       "2                 4.00        572336           586               54  \n",
       "3                 0.35         42626            86               19  \n",
       "4                10.80       3113427          4512             1224  "
      ]
     },
     "execution_count": 6,
     "metadata": {},
     "output_type": "execute_result"
    }
   ],
   "source": [
    "# Loading the DataFrame\n",
    "\n",
    "bolly_df = pd.read_csv('./Data/bollywood.csv')\n",
    "bolly_df.head(5)"
   ]
  },
  {
   "cell_type": "markdown",
   "id": "9eab8fc5",
   "metadata": {},
   "source": [
    "<p style = \"background-color:#CE5A67; color: white\">Q1. How many records are present in the dataset? Print the metadata information of the dataset.</p>"
   ]
  },
  {
   "cell_type": "markdown",
   "id": "77475080",
   "metadata": {},
   "source": [
    "Sol."
   ]
  },
  {
   "cell_type": "code",
   "execution_count": 7,
   "id": "079b181e",
   "metadata": {},
   "outputs": [
    {
     "name": "stdout",
     "output_type": "stream",
     "text": [
      "<class 'pandas.core.frame.DataFrame'>\n",
      "RangeIndex: 149 entries, 0 to 148\n",
      "Data columns (total 10 columns):\n",
      " #   Column               Non-Null Count  Dtype  \n",
      "---  ------               --------------  -----  \n",
      " 0   SlNo                 149 non-null    int64  \n",
      " 1   Release Date         149 non-null    object \n",
      " 2   MovieName            149 non-null    object \n",
      " 3   ReleaseTime          149 non-null    object \n",
      " 4   Genre                149 non-null    object \n",
      " 5   Budget               149 non-null    int64  \n",
      " 6   BoxOfficeCollection  149 non-null    float64\n",
      " 7   YoutubeViews         149 non-null    int64  \n",
      " 8   YoutubeLikes         149 non-null    int64  \n",
      " 9   YoutubeDislikes      149 non-null    int64  \n",
      "dtypes: float64(1), int64(5), object(4)\n",
      "memory usage: 11.8+ KB\n"
     ]
    }
   ],
   "source": [
    "bolly_df.info()"
   ]
  },
  {
   "cell_type": "markdown",
   "id": "ce61e621",
   "metadata": {},
   "source": [
    "so, there are 149 entries with 10 features or columns(if SlNo included). "
   ]
  },
  {
   "cell_type": "code",
   "execution_count": 9,
   "id": "7acd29bf",
   "metadata": {},
   "outputs": [
    {
     "data": {
      "text/plain": [
       "(149, 10)"
      ]
     },
     "execution_count": 9,
     "metadata": {},
     "output_type": "execute_result"
    }
   ],
   "source": [
    "bolly_df.shape"
   ]
  },
  {
   "cell_type": "markdown",
   "id": "82a3e29d",
   "metadata": {},
   "source": [
    "<p style = \"background-color:#555843; color: #B6FFFA\">Q2. How many movies got released in each genre? Which genre had highest number of releases? Sort no. of releases in each genre in descending order.</p>"
   ]
  },
  {
   "cell_type": "markdown",
   "id": "a27ea9cd",
   "metadata": {},
   "source": [
    "Sol. "
   ]
  },
  {
   "cell_type": "code",
   "execution_count": 18,
   "id": "da3a08f9",
   "metadata": {},
   "outputs": [
    {
     "data": {
      "text/plain": [
       "Comedy       36\n",
       " Drama       35\n",
       "Thriller     26\n",
       "Romance      25\n",
       "Action       21\n",
       "Thriller      3\n",
       "Action        3\n",
       "Name: Genre, dtype: int64"
      ]
     },
     "execution_count": 18,
     "metadata": {},
     "output_type": "execute_result"
    }
   ],
   "source": [
    "bolly_df.Genre.value_counts(normalize = False, sort = True, ascending = False, bins = None, dropna = True)"
   ]
  },
  {
   "cell_type": "markdown",
   "id": "9b19f7f0",
   "metadata": {},
   "source": [
    "As we can see, there is 36 comedy movies released, 35 Drama, 26 Thriller, 25 Romance, 21 Action, 3 Thriller and 3 Action.\n",
    "Syntax: Index.value_counts(normalize=False, sort=True, ascending=False, bins=None, dropna=True) </br>\n",
    "Parameters : </br>\n",
    "normalize : If True then the object returned will contain the relative frequencies of the unique values. </br>\n",
    "sort : Sort by values </br>\n",
    "ascending : Sort in ascending order </br> \n",
    "bins : Rather than count values, group them into half-open bins, a convenience for pd.cut, only works with numeric data </br>\n",
    "dropna : Don’t include counts of NaN. </br>\n",
    "Returns : counts : Series </br>"
   ]
  },
  {
   "cell_type": "markdown",
   "id": "d061664c",
   "metadata": {},
   "source": [
    "<p style = \"background-color:#DADDB1; color: #072541\">Q3. How many movies in each genre got released in different release times like long weekend, festive season, etc. (Note: Do a cross tabulation between Genre and Release Time)</p>"
   ]
  },
  {
   "cell_type": "code",
   "execution_count": 19,
   "id": "2d8f0f84",
   "metadata": {},
   "outputs": [
    {
     "data": {
      "text/html": [
       "<div>\n",
       "<style scoped>\n",
       "    .dataframe tbody tr th:only-of-type {\n",
       "        vertical-align: middle;\n",
       "    }\n",
       "\n",
       "    .dataframe tbody tr th {\n",
       "        vertical-align: top;\n",
       "    }\n",
       "\n",
       "    .dataframe thead th {\n",
       "        text-align: right;\n",
       "    }\n",
       "</style>\n",
       "<table border=\"1\" class=\"dataframe\">\n",
       "  <thead>\n",
       "    <tr style=\"text-align: right;\">\n",
       "      <th>ReleaseTime</th>\n",
       "      <th>FS</th>\n",
       "      <th>HS</th>\n",
       "      <th>LW</th>\n",
       "      <th>N</th>\n",
       "    </tr>\n",
       "    <tr>\n",
       "      <th>Genre</th>\n",
       "      <th></th>\n",
       "      <th></th>\n",
       "      <th></th>\n",
       "      <th></th>\n",
       "    </tr>\n",
       "  </thead>\n",
       "  <tbody>\n",
       "    <tr>\n",
       "      <th>Drama</th>\n",
       "      <td>4</td>\n",
       "      <td>6</td>\n",
       "      <td>1</td>\n",
       "      <td>24</td>\n",
       "    </tr>\n",
       "    <tr>\n",
       "      <th>Action</th>\n",
       "      <td>3</td>\n",
       "      <td>3</td>\n",
       "      <td>3</td>\n",
       "      <td>12</td>\n",
       "    </tr>\n",
       "    <tr>\n",
       "      <th>Action</th>\n",
       "      <td>0</td>\n",
       "      <td>0</td>\n",
       "      <td>0</td>\n",
       "      <td>3</td>\n",
       "    </tr>\n",
       "    <tr>\n",
       "      <th>Comedy</th>\n",
       "      <td>3</td>\n",
       "      <td>5</td>\n",
       "      <td>5</td>\n",
       "      <td>23</td>\n",
       "    </tr>\n",
       "    <tr>\n",
       "      <th>Romance</th>\n",
       "      <td>3</td>\n",
       "      <td>3</td>\n",
       "      <td>4</td>\n",
       "      <td>15</td>\n",
       "    </tr>\n",
       "    <tr>\n",
       "      <th>Thriller</th>\n",
       "      <td>4</td>\n",
       "      <td>1</td>\n",
       "      <td>1</td>\n",
       "      <td>20</td>\n",
       "    </tr>\n",
       "    <tr>\n",
       "      <th>Thriller</th>\n",
       "      <td>0</td>\n",
       "      <td>0</td>\n",
       "      <td>1</td>\n",
       "      <td>2</td>\n",
       "    </tr>\n",
       "  </tbody>\n",
       "</table>\n",
       "</div>"
      ],
      "text/plain": [
       "ReleaseTime  FS  HS  LW   N\n",
       "Genre                      \n",
       " Drama        4   6   1  24\n",
       "Action        3   3   3  12\n",
       "Action        0   0   0   3\n",
       "Comedy        3   5   5  23\n",
       "Romance       3   3   4  15\n",
       "Thriller      4   1   1  20\n",
       "Thriller      0   0   1   2"
      ]
     },
     "execution_count": 19,
     "metadata": {},
     "output_type": "execute_result"
    }
   ],
   "source": [
    "pd.crosstab(bolly_df['Genre'], bolly_df['ReleaseTime'])"
   ]
  },
  {
   "cell_type": "markdown",
   "id": "bf6e1129",
   "metadata": {},
   "source": [
    "Here, FS - 'Festive Season', HS - 'Holiday Season', LW - 'Long Weekend', N - 'Normal'"
   ]
  },
  {
   "cell_type": "markdown",
   "id": "10899103",
   "metadata": {},
   "source": [
    "Syntax: pandas.crosstab(index, columns, values=None, rownames=None, colnames=None, aggfunc=None, margins=False, margins_name=’All’, dropna=True, normalize=False)\n",
    "</br>\n",
    "Arguments :\n",
    "</br>\n",
    "index : array-like, Series, or list of arrays/Series, Values to group by in the rows. </br>\n",
    "columns : array-like, Series, or list of arrays/Series, Values to group by in the columns. </br>\n",
    "values : array-like, optional, array of values to aggregate according to the factors. Requires `aggfunc` be specified. </br>\n",
    "rownames : sequence, default None, If passed, must match number of row arrays passed. </br>\n",
    "colnames : sequence, default None, If passed, must match number of column arrays passed. </br>\n",
    "aggfunc : function, optional, If specified, requires `values` be specified as well. </br>\n",
    "margins : bool, default False, Add row/column margins (subtotals). </br>\n",
    "margins_name : str, default ‘All’, Name of the row/column that will contain the totals when margins is True. </br>\n",
    "dropna : bool, default True, Do not include columns whose entries are all NaN. </br>"
   ]
  },
  {
   "cell_type": "markdown",
   "id": "496a716f",
   "metadata": {},
   "source": [
    "<p style = \"background-color:#4D4C7D; color:#F1EFEF\">Q4. Which month of the year, maximum number movie releases are seen? (Note: Extract a new column called month from ReleaseDate column)</p>"
   ]
  },
  {
   "cell_type": "markdown",
   "id": "5d5d2f27",
   "metadata": {},
   "source": [
    "Sol.- "
   ]
  },
  {
   "cell_type": "code",
   "execution_count": 23,
   "id": "b79df323",
   "metadata": {},
   "outputs": [
    {
     "data": {
      "text/plain": [
       "0     2014-04-18\n",
       "1     2013-01-04\n",
       "2     2014-07-18\n",
       "3     2013-01-04\n",
       "4     2014-07-04\n",
       "         ...    \n",
       "144   2015-02-27\n",
       "145   2015-03-13\n",
       "146   2015-03-20\n",
       "147   2015-03-20\n",
       "148   2014-05-23\n",
       "Name: Release Date, Length: 149, dtype: datetime64[ns]"
      ]
     },
     "execution_count": 23,
     "metadata": {},
     "output_type": "execute_result"
    }
   ],
   "source": [
    "bolly_df['Release Date'] = pd.to_datetime(bolly_df['Release Date'])\n",
    "bolly_df['Release Date']"
   ]
  },
  {
   "cell_type": "code",
   "execution_count": 25,
   "id": "d0d6972e",
   "metadata": {},
   "outputs": [
    {
     "data": {
      "text/plain": [
       "0      4\n",
       "1      1\n",
       "2      7\n",
       "3      1\n",
       "4      7\n",
       "      ..\n",
       "144    2\n",
       "145    3\n",
       "146    3\n",
       "147    3\n",
       "148    5\n",
       "Name: month, Length: 149, dtype: int64"
      ]
     },
     "execution_count": 25,
     "metadata": {},
     "output_type": "execute_result"
    }
   ],
   "source": [
    "bolly_df['month'] = bolly_df['Release Date'].dt.month\n",
    "bolly_df['month']"
   ]
  },
  {
   "cell_type": "code",
   "execution_count": 26,
   "id": "5012627c",
   "metadata": {},
   "outputs": [
    {
     "data": {
      "text/plain": [
       "1     20\n",
       "3     19\n",
       "5     18\n",
       "7     16\n",
       "2     16\n",
       "4     11\n",
       "9     10\n",
       "6     10\n",
       "11    10\n",
       "10     9\n",
       "8      8\n",
       "12     2\n",
       "Name: month, dtype: int64"
      ]
     },
     "execution_count": 26,
     "metadata": {},
     "output_type": "execute_result"
    }
   ],
   "source": [
    "# Now, count the no. of releases of each month\n",
    "\n",
    "bolly_df['month'].value_counts()"
   ]
  },
  {
   "cell_type": "code",
   "execution_count": 28,
   "id": "46207bd2",
   "metadata": {},
   "outputs": [
    {
     "data": {
      "text/plain": [
       "1"
      ]
     },
     "execution_count": 28,
     "metadata": {},
     "output_type": "execute_result"
    }
   ],
   "source": [
    "# Now, let's find the month with maximum no. of releases\n",
    "\n",
    "max_release_idx = bolly_df['month'].value_counts().idxmax()\n",
    "max_release_idx"
   ]
  },
  {
   "cell_type": "markdown",
   "id": "4429a68b",
   "metadata": {},
   "source": [
    "So, the first month have most number of movies releases."
   ]
  },
  {
   "cell_type": "code",
   "execution_count": null,
   "id": "a7666c1e",
   "metadata": {},
   "outputs": [],
   "source": []
  }
 ],
 "metadata": {
  "kernelspec": {
   "display_name": "Python 3 (ipykernel)",
   "language": "python",
   "name": "python3"
  },
  "language_info": {
   "codemirror_mode": {
    "name": "ipython",
    "version": 3
   },
   "file_extension": ".py",
   "mimetype": "text/x-python",
   "name": "python",
   "nbconvert_exporter": "python",
   "pygments_lexer": "ipython3",
   "version": "3.10.7"
  }
 },
 "nbformat": 4,
 "nbformat_minor": 5
}
