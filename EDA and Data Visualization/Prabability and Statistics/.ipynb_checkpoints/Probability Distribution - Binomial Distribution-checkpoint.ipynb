{
 "cells": [
  {
   "cell_type": "markdown",
   "id": "02899c13",
   "metadata": {},
   "source": [
    "### Binomial Distribution"
   ]
  },
  {
   "cell_type": "markdown",
   "id": "f380624d",
   "metadata": {},
   "source": [
    "#### Definition:- \n",
    "    \n",
    "    Binomial Distribution is a discrete probability distribution and has several applicaitons in many business contexts. A random variable X is said to follow a binomial distribution when:\n",
    "        1. The random variable can only have two outcomes - success and failure(also known as Bernoulli Trials).\n",
    "        2. The objective is to find the probability of getting x successes out of n trials.\n",
    "        3. The probability of success is p and thus the probability of failue is (1-p).\n",
    "        4. The probability p is constant and does not change between trials."
   ]
  },
  {
   "cell_type": "markdown",
   "id": "7481d51c",
   "metadata": {},
   "source": [
    "#### The PMF of the binomial distribution (probability that the number of success will be exactly x out of n trials) is given by:- "
   ]
  },
  {
   "cell_type": "markdown",
   "id": "99c96096",
   "metadata": {},
   "source": [
    "$$\n",
    "PMF(x) = P(X = x) = \\binom{n}{x} \\cdot p^x \\cdot (1 - p)^{n - x}\n",
    "$$\n",
    "\n",
    "Where the binomial coefficient is represented by:\n",
    "\n",
    "$$\n",
    "\\binom{n}{x} = \\frac{n!}{x!(n-x)!}\n",
    "$$\n"
   ]
  },
  {
   "cell_type": "markdown",
   "id": "be684b7d",
   "metadata": {},
   "source": [
    "#### The CDF of the binomial distribution (probability that the number of success will be x or less than x out of n trials) is given by:-"
   ]
  },
  {
   "cell_type": "markdown",
   "id": "0df85c54",
   "metadata": {},
   "source": [
    "$$ CDF(x) = P(X <= x) = \\sum_{k = 0}^{x} \\binom{n}{x} \\cdot p^k \\cdot (1-p)^{n-k} $$"
   ]
  },
  {
   "cell_type": "markdown",
   "id": "c32a3fd5",
   "metadata": {},
   "source": [
    "#### Note:-  $$ In \\ Python, \\ the \\ scipy.stats.binom \\ class \\ provides \\ methods \\ to \\ work \\ with \\ binomial \\ distribution. $$"
   ]
  },
  {
   "cell_type": "markdown",
   "id": "e6e8877a",
   "metadata": {},
   "source": [
    "#### Example of Binomial Distribution:- \n",
    "    \n",
    "    Fashion Trends Online (FTO) is an e-commerce company that sells women apparel. It is observed that 10% of their customers return the items purchased by them for many reasons (such as size, color, and material mismatch). On specific day, 20 customers purchased items from FTO. Calculate:-\n",
    "        \n",
    "        1. Probability that exactly 5 customers will return the items.\n",
    "        2. Probability that a maximum of 5 customers will return the items.\n",
    "        3. Probability that more than 5 customers will return the items purchased by them.\n",
    "        4. Average number of customers who are likely to reutrn the items and the variance and the standard deviation of the number of returns."
   ]
  },
  {
   "cell_type": "markdown",
   "id": "218b9322",
   "metadata": {},
   "source": [
    "#### Q1. Probability that exactly 5 customers will return the items.\n",
    "\n",
    "    The function stats.binom.pmf() calculate PMF for binomial distribution and takes three parameters:\n",
    "        (a) Expected number of successful trials(5)\n",
    "        (b) Total Number of Trials(20)\n",
    "        (c) The Probability of success (0.1)"
   ]
  },
  {
   "cell_type": "code",
   "execution_count": 4,
   "id": "32e3400e",
   "metadata": {},
   "outputs": [
    {
     "data": {
      "text/plain": [
       "0.031921361119954424"
      ]
     },
     "execution_count": 4,
     "metadata": {},
     "output_type": "execute_result"
    }
   ],
   "source": [
    "from scipy import stats\n",
    "stats.binom.pmf(5,20,0.1)"
   ]
  },
  {
   "cell_type": "markdown",
   "id": "6bced158",
   "metadata": {},
   "source": [
    "The corresponding probability is 0.03192, that is, the probability that exactly 5 customers will return the item is approximately 3%."
   ]
  },
  {
   "cell_type": "markdown",
   "id": "d069cb8a",
   "metadata": {},
   "source": [
    "To visualize how the PMF varies with increasing number of successful trials, we will create a list of all possible number of successes(0 to 20) and corresponding PMF calues and draw a bar plot."
   ]
  },
  {
   "cell_type": "code",
   "execution_count": 6,
   "id": "40f2b556",
   "metadata": {},
   "outputs": [
    {
     "data": {
      "text/plain": [
       "Text(0.5, 0, 'Number of items returned')"
      ]
     },
     "execution_count": 6,
     "metadata": {},
     "output_type": "execute_result"
    },
    {
     "data": {
      "image/png": "[encoded data removed]",
      "text/plain": [
       "<Figure size 640x480 with 1 Axes>"
      ]
     },
     "metadata": {},
     "output_type": "display_data"
    }
   ],
   "source": [
    "import pandas as pd\n",
    "import numpy as np\n",
    "import seaborn as sns\n",
    "import matplotlib.pyplot as plt\n",
    "%matplotlib inline\n",
    "\n",
    "pmf_df = pd.DataFrame({'success': range(0,21),\n",
    "                       'pmf': list(stats.binom.pmf(range(0,21),20,0.1))})\n",
    "\n",
    "# creating a bar plot with no. of success as x and pmf as y\n",
    "sns.barplot(x = pmf_df.success, y = pmf_df.pmf)\n",
    "plt.ylabel('pmf')\n",
    "plt.xlabel('Number of items returned')"
   ]
  },
  {
   "cell_type": "markdown",
   "id": "94a132d0",
   "metadata": {},
   "source": [
    "#### Q2:- Probability that a maximum of 5 customers will return the items."
   ]
  },
  {
   "cell_type": "code",
   "execution_count": 7,
   "id": "6eeedea8",
   "metadata": {},
   "outputs": [
    {
     "data": {
      "text/plain": [
       "0.988746865835491"
      ]
     },
     "execution_count": 7,
     "metadata": {},
     "output_type": "execute_result"
    }
   ],
   "source": [
    "stats.binom.cdf(5,20,0.1)"
   ]
  },
  {
   "cell_type": "markdown",
   "id": "0e841f12",
   "metadata": {},
   "source": [
    "#### Q3. Probability that more than 5 customers will return the items purchased by them."
   ]
  },
  {
   "cell_type": "code",
   "execution_count": 10,
   "id": "ad0badb6",
   "metadata": {},
   "outputs": [
    {
     "data": {
      "text/plain": [
       "0.011253134164509015"
      ]
     },
     "execution_count": 10,
     "metadata": {},
     "output_type": "execute_result"
    }
   ],
   "source": [
    "1 - stats.binom.cdf(5,20,0.1)"
   ]
  },
  {
   "cell_type": "markdown",
   "id": "19b15189",
   "metadata": {},
   "source": [
    "#### Q4. Average number of customers who are likely to reutrn the items and the variance and the standard deviation of the number of returns.\n",
    "    \n",
    "    (a) Average of a binomial distribution is given by n*p.\n",
    "    (b) Variance of a binomial distribution is given by n*p*(1-p)"
   ]
  },
  {
   "cell_type": "code",
   "execution_count": 12,
   "id": "17cdcfd2",
   "metadata": {},
   "outputs": [
    {
     "name": "stdout",
     "output_type": "stream",
     "text": [
      "Average:  2.0 Variance: 1.8\n"
     ]
    }
   ],
   "source": [
    "mean, var = stats.binom.stats(20, 0.1)\n",
    "print(\"Average: \", mean , \"Variance:\", var)"
   ]
  },
  {
   "cell_type": "code",
   "execution_count": null,
   "id": "72cfcda0",
   "metadata": {},
   "outputs": [],
   "source": []
  }
 ],
 "metadata": {
  "kernelspec": {
   "display_name": "Python 3 (ipykernel)",
   "language": "python",
   "name": "python3"
  },
  "language_info": {
   "codemirror_mode": {
    "name": "ipython",
    "version": 3
   },
   "file_extension": ".py",
   "mimetype": "text/x-python",
   "name": "python",
   "nbconvert_exporter": "python",
   "pygments_lexer": "ipython3",
   "version": "3.10.7"
  }
 },
 "nbformat": 4,
 "nbformat_minor": 5
}
