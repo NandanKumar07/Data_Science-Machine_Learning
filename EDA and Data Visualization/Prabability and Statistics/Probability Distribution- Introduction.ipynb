{
 "cells": [
  {
   "cell_type": "markdown",
   "id": "baa8d019",
   "metadata": {},
   "source": [
    "### Probability Distribution"
   ]
  },
  {
   "cell_type": "markdown",
   "id": "4bcaea6b",
   "metadata": {},
   "source": [
    "#### Random Experiment:- \n",
    "    \n",
    "    Random Experiment is an experiment in which the outcome is not known with certainty."
   ]
  },
  {
   "cell_type": "markdown",
   "id": "c15c6d78",
   "metadata": {},
   "source": [
    "#### Sample Space:- \n",
    "\n",
    "    Sample space is the universal set that consists of all possible outcomes of an experiments. The sample space can be finite or infinite."
   ]
  },
  {
   "cell_type": "markdown",
   "id": "34b85b99",
   "metadata": {},
   "source": [
    "#### Event:- \n",
    "    \n",
    "    Event(E) is the subset of a sample space and probability is usually calculated with respect to an event. \n",
    "    Examples :- \n",
    "        1. Number of fraudulent credit card transactions exceeding 1%.\n",
    "        2. Number of cancellation of orders placed at an E-commerce portal site exceeding 10%.\n",
    "        3. The life of a capital equipment being less than one year."
   ]
  },
  {
   "cell_type": "markdown",
   "id": "ea335951",
   "metadata": {},
   "source": [
    "#### Random Variables:- \n",
    "    \n",
    "    Random Variables is a function that maps every outcome in the sample space to a real number. A random variable can be classified as discrete or continuous depending on the values it can take.\n",
    "    "
   ]
  },
  {
   "cell_type": "markdown",
   "id": "ce6dcb21",
   "metadata": {},
   "source": [
    "#### Discrete Random Variables:-\n",
    "    \n",
    "    If the random variable X can assume only a finite or countably infinite set of values, then it is called \"discrete random variable\"\n",
    "\n",
    "#### Continuous Random Variables:- \n",
    "    \n",
    "    If the random variable X which can take a values from an infinite set of values is called a continuous random variable."
   ]
  },
  {
   "cell_type": "markdown",
   "id": "e7afd44d",
   "metadata": {},
   "source": [
    "\n",
    "Discrete random variables are described using probability mass function(PMF) and cumulative distribution function(CDF)."
   ]
  },
  {
   "cell_type": "markdown",
   "id": "c70ecdd9",
   "metadata": {},
   "source": [
    "#### PMF(Probability Mass Function):- \n",
    "    \n",
    "    PMF is the probability that a random variable X takes a specific value k; for example, the number of fraudulent transactions at an e-commerce platform is 10, written as P(X = 10).\n",
    "    \n",
    "#### CDF(Cumulative Distribution Function):- \n",
    "    \n",
    "    CDF is the probability that a random variable X takes a value less than or equal to 10, which is written as P(X<=10)."
   ]
  },
  {
   "cell_type": "markdown",
   "id": "d747704f",
   "metadata": {},
   "source": [
    "\n",
    "Continuous Random Variables are described using probability density function(PDF) and cumulative distribution function(CDF).\n"
   ]
  },
  {
   "cell_type": "markdown",
   "id": "ff0dd3bc",
   "metadata": {},
   "source": [
    "#### PDF(Probability Distribution Function):- \n",
    "    \n",
    "    PDF is the probability that a continuous random variable takes value in a small neighbourhood of \"x\" and is given by\n",
    "    "
   ]
  },
  {
   "cell_type": "markdown",
   "id": "ddc47d1e",
   "metadata": {},
   "source": [
    "$$\n",
    "f(x) = \\lim_{{\\delta x \\to 0}} P[x \\leq X \\leq x + \\delta x]\n",
    "$$\n"
   ]
  },
  {
   "cell_type": "markdown",
   "id": "c1860042",
   "metadata": {},
   "source": [
    "#### CDF(Cumulative Distribution Function):-\n",
    "    \n",
    "    The CDF of a continuous random variable is the probability that the random variable takes value less than or equal to a value \"a\". Mathematically,\n",
    "    "
   ]
  },
  {
   "cell_type": "markdown",
   "id": "27c391f4",
   "metadata": {},
   "source": [
    "$$\n",
    "F(a) = \\int_{-\\infty}^{a} f(x) \\, dx\n",
    "$$"
   ]
  },
  {
   "cell_type": "code",
   "execution_count": null,
   "id": "2b29b595",
   "metadata": {},
   "outputs": [],
   "source": []
  }
 ],
 "metadata": {
  "kernelspec": {
   "display_name": "Python 3 (ipykernel)",
   "language": "python",
   "name": "python3"
  },
  "language_info": {
   "codemirror_mode": {
    "name": "ipython",
    "version": 3
   },
   "file_extension": ".py",
   "mimetype": "text/x-python",
   "name": "python",
   "nbconvert_exporter": "python",
   "pygments_lexer": "ipython3",
   "version": "3.10.7"
  }
 },
 "nbformat": 4,
 "nbformat_minor": 5
}
