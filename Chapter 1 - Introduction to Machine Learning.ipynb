{
 "cells": [
  {
   "cell_type": "code",
   "execution_count": 1,
   "id": "5f7f5eb9",
   "metadata": {},
   "outputs": [
    {
     "name": "stdout",
     "output_type": "stream",
     "text": [
      "5\n"
     ]
    }
   ],
   "source": [
    "# My First Program\n",
    "\n",
    "a = 5\n",
    "print(a)"
   ]
  },
  {
   "cell_type": "code",
   "execution_count": 2,
   "id": "5d4ddc60",
   "metadata": {},
   "outputs": [],
   "source": [
    "# Declarnig a Variables\n",
    "\n",
    "var1 = 2       # Int\n",
    "var2 = 5.0     # Float/decimal\n",
    "var3 = True    # Boolean\n",
    "var4 = \"Machine Learning\"   # String"
   ]
  },
  {
   "cell_type": "code",
   "execution_count": 3,
   "id": "d6d88c3b",
   "metadata": {},
   "outputs": [
    {
     "name": "stdout",
     "output_type": "stream",
     "text": [
      "Values of var1 : 2\n",
      "Values of var2 : 5.0\n",
      "Values of var3 : True\n",
      "Values of var4 : Machine Learning\n"
     ]
    }
   ],
   "source": [
    "print(\"Values of var1 :\", var1)\n",
    "print(\"Values of var2 :\", var2)\n",
    "print(\"Values of var3 :\", var3)\n",
    "print(\"Values of var4 :\", var4)"
   ]
  },
  {
   "cell_type": "code",
   "execution_count": 4,
   "id": "d5972375",
   "metadata": {},
   "outputs": [
    {
     "data": {
      "text/plain": [
       "int"
      ]
     },
     "execution_count": 4,
     "metadata": {},
     "output_type": "execute_result"
    }
   ],
   "source": [
    "# Checking the data type\n",
    "\n",
    "type(var1)"
   ]
  },
  {
   "cell_type": "code",
   "execution_count": 5,
   "id": "7affba82",
   "metadata": {},
   "outputs": [
    {
     "data": {
      "text/plain": [
       "float"
      ]
     },
     "execution_count": 5,
     "metadata": {},
     "output_type": "execute_result"
    }
   ],
   "source": [
    "type(var2)"
   ]
  },
  {
   "cell_type": "code",
   "execution_count": 6,
   "id": "07584e02",
   "metadata": {},
   "outputs": [
    {
     "data": {
      "text/plain": [
       "bool"
      ]
     },
     "execution_count": 6,
     "metadata": {},
     "output_type": "execute_result"
    }
   ],
   "source": [
    "type(var3)"
   ]
  },
  {
   "cell_type": "code",
   "execution_count": 7,
   "id": "3c167647",
   "metadata": {},
   "outputs": [
    {
     "data": {
      "text/plain": [
       "str"
      ]
     },
     "execution_count": 7,
     "metadata": {},
     "output_type": "execute_result"
    }
   ],
   "source": [
    "type(var4)"
   ]
  },
  {
   "cell_type": "code",
   "execution_count": 8,
   "id": "a6ef5bc1",
   "metadata": {},
   "outputs": [
    {
     "name": "stdout",
     "output_type": "stream",
     "text": [
      "Bigger than 1\n"
     ]
    }
   ],
   "source": [
    "# Conditional Statements\n",
    "\n",
    "if var1 > 1:\n",
    "    print(\"Bigger than 1\")"
   ]
  },
  {
   "cell_type": "code",
   "execution_count": 9,
   "id": "391a7235",
   "metadata": {},
   "outputs": [
    {
     "name": "stdout",
     "output_type": "stream",
     "text": [
      "x < y\n"
     ]
    }
   ],
   "source": [
    "x = 10\n",
    "y = 12\n",
    "\n",
    "if x > y:\n",
    "    print(\"x > y\")\n",
    "elif x < y:\n",
    "    print(\"x < y\")\n",
    "else:\n",
    "    print(\"x = y\")"
   ]
  },
  {
   "cell_type": "code",
   "execution_count": 10,
   "id": "77430452",
   "metadata": {},
   "outputs": [
    {
     "name": "stdout",
     "output_type": "stream",
     "text": [
      "False\n"
     ]
    }
   ],
   "source": [
    "# Ternary Operator\n",
    "\n",
    "# initialize\n",
    "x = 5\n",
    "\n",
    "# True if x is more than 10 or assign False using ternary operator\n",
    "isGreater = True if x > 10 else False\n",
    "\n",
    "print(isGreater)"
   ]
  },
  {
   "cell_type": "code",
   "execution_count": 11,
   "id": "bcd380f5",
   "metadata": {},
   "outputs": [
    {
     "data": {
      "text/plain": [
       "range(1, 6)"
      ]
     },
     "execution_count": 11,
     "metadata": {},
     "output_type": "execute_result"
    }
   ],
   "source": [
    "# Generating Sequence Numbers\n",
    "\n",
    "# Initializing the sequence if numbers starting from 1 and ending (not including) with 6\n",
    "\n",
    "numbers = range(1, 6)\n",
    "\n",
    "numbers"
   ]
  },
  {
   "cell_type": "code",
   "execution_count": 12,
   "id": "0c79a2d2",
   "metadata": {},
   "outputs": [],
   "source": [
    "# Control Flow Statements"
   ]
  },
  {
   "cell_type": "code",
   "execution_count": 13,
   "id": "5061c2ed",
   "metadata": {},
   "outputs": [
    {
     "name": "stdout",
     "output_type": "stream",
     "text": [
      "1\n",
      "2\n",
      "3\n",
      "4\n",
      "5\n"
     ]
    }
   ],
   "source": [
    "# Interate through the collection\n",
    "\n",
    "for i in numbers:\n",
    "    print(i)"
   ]
  },
  {
   "cell_type": "code",
   "execution_count": 14,
   "id": "cdfefff8",
   "metadata": {},
   "outputs": [
    {
     "name": "stdout",
     "output_type": "stream",
     "text": [
      "1\n",
      "2\n",
      "3\n",
      "4\n",
      "Done\n"
     ]
    }
   ],
   "source": [
    "# While loop\n",
    "\n",
    "i = 1\n",
    "\n",
    "while i < 5:\n",
    "    print(i)\n",
    "    i = i + 1\n",
    "\n",
    "print('Done')"
   ]
  },
  {
   "cell_type": "code",
   "execution_count": 15,
   "id": "09d45b5e",
   "metadata": {},
   "outputs": [],
   "source": [
    "# Functions"
   ]
  },
  {
   "cell_type": "code",
   "execution_count": 16,
   "id": "3c72a7a4",
   "metadata": {},
   "outputs": [],
   "source": [
    "def addElements(a,b):\n",
    "    return a + b"
   ]
  },
  {
   "cell_type": "code",
   "execution_count": 17,
   "id": "45e27d21",
   "metadata": {},
   "outputs": [
    {
     "data": {
      "text/plain": [
       "5"
      ]
     },
     "execution_count": 17,
     "metadata": {},
     "output_type": "execute_result"
    }
   ],
   "source": [
    "result = addElements(2, 3)\n",
    "result"
   ]
  },
  {
   "cell_type": "code",
   "execution_count": 18,
   "id": "bace6cea",
   "metadata": {},
   "outputs": [
    {
     "data": {
      "text/plain": [
       "6.8"
      ]
     },
     "execution_count": 18,
     "metadata": {},
     "output_type": "execute_result"
    }
   ],
   "source": [
    "result = addElements(2.3, 4.5)\n",
    "result"
   ]
  },
  {
   "cell_type": "code",
   "execution_count": 19,
   "id": "77fee33e",
   "metadata": {},
   "outputs": [
    {
     "data": {
      "text/plain": [
       "'pythonworkshop'"
      ]
     },
     "execution_count": 19,
     "metadata": {},
     "output_type": "execute_result"
    }
   ],
   "source": [
    "result = addElements(\"python\", \"workshop\")\n",
    "result"
   ]
  },
  {
   "cell_type": "code",
   "execution_count": 20,
   "id": "be6b8ce7",
   "metadata": {},
   "outputs": [],
   "source": [
    "def addElements(a, b = 4):\n",
    "    return a + b"
   ]
  },
  {
   "cell_type": "code",
   "execution_count": 21,
   "id": "3af47f0e",
   "metadata": {},
   "outputs": [
    {
     "data": {
      "text/plain": [
       "6"
      ]
     },
     "execution_count": 21,
     "metadata": {},
     "output_type": "execute_result"
    }
   ],
   "source": [
    "addElements(2)"
   ]
  },
  {
   "cell_type": "code",
   "execution_count": 22,
   "id": "7a6755f5",
   "metadata": {},
   "outputs": [
    {
     "data": {
      "text/plain": [
       "7"
      ]
     },
     "execution_count": 22,
     "metadata": {},
     "output_type": "execute_result"
    }
   ],
   "source": [
    "addElements(2,5)"
   ]
  },
  {
   "cell_type": "code",
   "execution_count": 23,
   "id": "c8827ef0",
   "metadata": {},
   "outputs": [],
   "source": [
    "# Working with Collections:\n",
    "\n",
    "    # List\n",
    "    # Tuple\n",
    "    # Set\n",
    "    # Dictionary"
   ]
  },
  {
   "cell_type": "code",
   "execution_count": 24,
   "id": "8951edf9",
   "metadata": {},
   "outputs": [],
   "source": [
    "# List\n",
    "# Creating an empty list\n",
    "emptyList = []"
   ]
  },
  {
   "cell_type": "code",
   "execution_count": 25,
   "id": "a9577781",
   "metadata": {},
   "outputs": [],
   "source": [
    "batsmen = ['Rohit', 'Dhawan', 'Kohli', 'Rahane', 'Rayudu', 'Dhoni']"
   ]
  },
  {
   "cell_type": "code",
   "execution_count": 26,
   "id": "c603b41f",
   "metadata": {},
   "outputs": [
    {
     "data": {
      "text/plain": [
       "'Rohit'"
      ]
     },
     "execution_count": 26,
     "metadata": {},
     "output_type": "execute_result"
    }
   ],
   "source": [
    "batsmen[0]"
   ]
  },
  {
   "cell_type": "code",
   "execution_count": 27,
   "id": "8cbc6f50",
   "metadata": {},
   "outputs": [
    {
     "data": {
      "text/plain": [
       "['Rohit', 'Dhawan']"
      ]
     },
     "execution_count": 27,
     "metadata": {},
     "output_type": "execute_result"
    }
   ],
   "source": [
    "batsmen[0:2]"
   ]
  },
  {
   "cell_type": "code",
   "execution_count": 28,
   "id": "92390069",
   "metadata": {},
   "outputs": [
    {
     "data": {
      "text/plain": [
       "'Dhoni'"
      ]
     },
     "execution_count": 28,
     "metadata": {},
     "output_type": "execute_result"
    }
   ],
   "source": [
    "batsmen[-1]"
   ]
  },
  {
   "cell_type": "code",
   "execution_count": 29,
   "id": "7d810e2b",
   "metadata": {},
   "outputs": [
    {
     "data": {
      "text/plain": [
       "6"
      ]
     },
     "execution_count": 29,
     "metadata": {},
     "output_type": "execute_result"
    }
   ],
   "source": [
    "len(batsmen)"
   ]
  },
  {
   "cell_type": "code",
   "execution_count": 30,
   "id": "f17c164a",
   "metadata": {},
   "outputs": [],
   "source": [
    "bowlers = ['Bumrah', 'Shami', 'Bhuvi', 'Kuldeep', 'Chahal']"
   ]
  },
  {
   "cell_type": "code",
   "execution_count": 32,
   "id": "3968c0bd",
   "metadata": {},
   "outputs": [
    {
     "data": {
      "text/plain": [
       "['Rohit',\n",
       " 'Dhawan',\n",
       " 'Kohli',\n",
       " 'Rahane',\n",
       " 'Rayudu',\n",
       " 'Dhoni',\n",
       " 'Bumrah',\n",
       " 'Shami',\n",
       " 'Bhuvi',\n",
       " 'Kuldeep',\n",
       " 'Chahal']"
      ]
     },
     "execution_count": 32,
     "metadata": {},
     "output_type": "execute_result"
    }
   ],
   "source": [
    "all_players = batsmen + bowlers\n",
    "all_players"
   ]
  },
  {
   "cell_type": "code",
   "execution_count": 33,
   "id": "6a4a77cc",
   "metadata": {},
   "outputs": [
    {
     "name": "stdout",
     "output_type": "stream",
     "text": [
      "True\n",
      "False\n"
     ]
    }
   ],
   "source": [
    "# Finding if an item exists in a list or not\n",
    "\n",
    "print('Bumrah' in bowlers)\n",
    "print('Rayudu' in bowlers)"
   ]
  },
  {
   "cell_type": "code",
   "execution_count": 34,
   "id": "d8f51731",
   "metadata": {},
   "outputs": [
    {
     "data": {
      "text/plain": [
       "5"
      ]
     },
     "execution_count": 34,
     "metadata": {},
     "output_type": "execute_result"
    }
   ],
   "source": [
    "# Finding the index of an item in the list\n",
    "\n",
    "all_players.index('Dhoni')"
   ]
  },
  {
   "cell_type": "code",
   "execution_count": 35,
   "id": "00ad7bf0",
   "metadata": {},
   "outputs": [
    {
     "data": {
      "text/plain": [
       "['Chahal',\n",
       " 'Kuldeep',\n",
       " 'Bhuvi',\n",
       " 'Shami',\n",
       " 'Bumrah',\n",
       " 'Dhoni',\n",
       " 'Rayudu',\n",
       " 'Rahane',\n",
       " 'Kohli',\n",
       " 'Dhawan',\n",
       " 'Rohit']"
      ]
     },
     "execution_count": 35,
     "metadata": {},
     "output_type": "execute_result"
    }
   ],
   "source": [
    "# reversing the list\n",
    "\n",
    "all_players.reverse()\n",
    "all_players"
   ]
  },
  {
   "cell_type": "code",
   "execution_count": 36,
   "id": "45ef9794",
   "metadata": {},
   "outputs": [],
   "source": [
    "# Tuples"
   ]
  },
  {
   "cell_type": "code",
   "execution_count": 37,
   "id": "22d5cd12",
   "metadata": {},
   "outputs": [
    {
     "data": {
      "text/plain": [
       "('Kohli', 2008)"
      ]
     },
     "execution_count": 37,
     "metadata": {},
     "output_type": "execute_result"
    }
   ],
   "source": [
    "odiDebut = ('Kohli', 2008)\n",
    "odiDebut"
   ]
  },
  {
   "cell_type": "code",
   "execution_count": 39,
   "id": "9c4a0b71",
   "metadata": {},
   "outputs": [
    {
     "data": {
      "text/plain": [
       "'Kohli'"
      ]
     },
     "execution_count": 39,
     "metadata": {},
     "output_type": "execute_result"
    }
   ],
   "source": [
    "odiDebut[0]"
   ]
  },
  {
   "cell_type": "code",
   "execution_count": 41,
   "id": "ee30ba2c",
   "metadata": {},
   "outputs": [],
   "source": [
    "# Tuple is immutable... We cannot change or modify the tuple elements"
   ]
  },
  {
   "cell_type": "code",
   "execution_count": 42,
   "id": "12063d22",
   "metadata": {},
   "outputs": [
    {
     "data": {
      "text/plain": [
       "('Chahal',\n",
       " 'Kuldeep',\n",
       " 'Bhuvi',\n",
       " 'Shami',\n",
       " 'Bumrah',\n",
       " 'Dhoni',\n",
       " 'Rayudu',\n",
       " 'Rahane',\n",
       " 'Kohli',\n",
       " 'Dhawan',\n",
       " 'Rohit')"
      ]
     },
     "execution_count": 42,
     "metadata": {},
     "output_type": "execute_result"
    }
   ],
   "source": [
    "# type cast\n",
    "\n",
    "players = tuple(all_players)\n",
    "players"
   ]
  },
  {
   "cell_type": "code",
   "execution_count": 43,
   "id": "ec9ae75b",
   "metadata": {},
   "outputs": [],
   "source": [
    "# Set"
   ]
  },
  {
   "cell_type": "code",
   "execution_count": 45,
   "id": "b4bb3232",
   "metadata": {},
   "outputs": [
    {
     "data": {
      "text/plain": [
       "{1, 2, 4, 5, 6}"
      ]
     },
     "execution_count": 45,
     "metadata": {},
     "output_type": "execute_result"
    }
   ],
   "source": [
    "setOfNumbers = {6,1,1,2,4,5} # Unique Elements\n",
    "setOfNumbers"
   ]
  },
  {
   "cell_type": "code",
   "execution_count": 46,
   "id": "010af47e",
   "metadata": {},
   "outputs": [],
   "source": [
    "wc2011 = {\"Dhoni\", \"Sehwag\", \"Tendulkar\", \"Gambhir\", \"Kohli\", \"Raina\", \"Yuvraj\", \"Yusuf\"}\n",
    "wc2015 = {\"Dhoni\", \"Dhawan\", \"Rohit\", \"Rahane\", \"Kohli\", \"Raina\", \"Rayudu\", \"Jadeja\"}"
   ]
  },
  {
   "cell_type": "code",
   "execution_count": 47,
   "id": "36b9ace8",
   "metadata": {},
   "outputs": [
    {
     "data": {
      "text/plain": [
       "{'Dhawan',\n",
       " 'Dhoni',\n",
       " 'Gambhir',\n",
       " 'Jadeja',\n",
       " 'Kohli',\n",
       " 'Rahane',\n",
       " 'Raina',\n",
       " 'Rayudu',\n",
       " 'Rohit',\n",
       " 'Sehwag',\n",
       " 'Tendulkar',\n",
       " 'Yusuf',\n",
       " 'Yuvraj'}"
      ]
     },
     "execution_count": 47,
     "metadata": {},
     "output_type": "execute_result"
    }
   ],
   "source": [
    "# Union\n",
    "\n",
    "wc2011.union(wc2015)"
   ]
  },
  {
   "cell_type": "code",
   "execution_count": 48,
   "id": "982696bf",
   "metadata": {},
   "outputs": [
    {
     "data": {
      "text/plain": [
       "{'Dhoni', 'Kohli', 'Raina'}"
      ]
     },
     "execution_count": 48,
     "metadata": {},
     "output_type": "execute_result"
    }
   ],
   "source": [
    "wc2011.intersection(wc2015)"
   ]
  },
  {
   "cell_type": "code",
   "execution_count": 49,
   "id": "8b262e81",
   "metadata": {},
   "outputs": [
    {
     "data": {
      "text/plain": [
       "{'Dhawan', 'Jadeja', 'Rahane', 'Rayudu', 'Rohit'}"
      ]
     },
     "execution_count": 49,
     "metadata": {},
     "output_type": "execute_result"
    }
   ],
   "source": [
    "wc2015.difference(wc2011)"
   ]
  },
  {
   "cell_type": "code",
   "execution_count": 50,
   "id": "9208b590",
   "metadata": {},
   "outputs": [],
   "source": [
    "# Dictionary"
   ]
  },
  {
   "cell_type": "code",
   "execution_count": 51,
   "id": "b25ebfd1",
   "metadata": {},
   "outputs": [],
   "source": [
    "wcWinners = {1975: \"West Indies\",\n",
    "             1979: \"West Indies\",\n",
    "             1983: \"India\",\n",
    "             1987: \"Austrailia\",\n",
    "             1991: \"Pakistan\",\n",
    "             1996: \"Sri Lanka\",\n",
    "             2003: \"Austrailia\",\n",
    "             2007: \"Austrailia\",\n",
    "             2011: \"India\"\n",
    "            }"
   ]
  },
  {
   "cell_type": "code",
   "execution_count": 52,
   "id": "5620d352",
   "metadata": {},
   "outputs": [
    {
     "data": {
      "text/plain": [
       "'India'"
      ]
     },
     "execution_count": 52,
     "metadata": {},
     "output_type": "execute_result"
    }
   ],
   "source": [
    "wcWinners[1983]"
   ]
  },
  {
   "cell_type": "code",
   "execution_count": 53,
   "id": "fcf75c4e",
   "metadata": {},
   "outputs": [
    {
     "data": {
      "text/plain": [
       "dict_values(['West Indies', 'West Indies', 'India', 'Austrailia', 'Pakistan', 'Sri Lanka', 'Austrailia', 'Austrailia', 'India'])"
      ]
     },
     "execution_count": 53,
     "metadata": {},
     "output_type": "execute_result"
    }
   ],
   "source": [
    "wcWinners.values()"
   ]
  },
  {
   "cell_type": "code",
   "execution_count": 54,
   "id": "4724603f",
   "metadata": {},
   "outputs": [
    {
     "data": {
      "text/plain": [
       "{'Austrailia', 'India', 'Pakistan', 'Sri Lanka', 'West Indies'}"
      ]
     },
     "execution_count": 54,
     "metadata": {},
     "output_type": "execute_result"
    }
   ],
   "source": [
    "set(wcWinners.values())"
   ]
  },
  {
   "cell_type": "code",
   "execution_count": 55,
   "id": "0a0bc2e1",
   "metadata": {},
   "outputs": [
    {
     "data": {
      "text/plain": [
       "{1975: 'West Indies',\n",
       " 1979: 'West Indies',\n",
       " 1983: 'India',\n",
       " 1987: 'Austrailia',\n",
       " 1991: 'Pakistan',\n",
       " 1996: 'Sri Lanka',\n",
       " 2003: 'Austrailia',\n",
       " 2007: 'Austrailia',\n",
       " 2011: 'India',\n",
       " 2015: 'Austrailia'}"
      ]
     },
     "execution_count": 55,
     "metadata": {},
     "output_type": "execute_result"
    }
   ],
   "source": [
    "wcWinners[2015] = 'Austrailia'\n",
    "wcWinners"
   ]
  },
  {
   "cell_type": "code",
   "execution_count": 56,
   "id": "dddc2967",
   "metadata": {},
   "outputs": [],
   "source": [
    "# Dealing with Strings"
   ]
  },
  {
   "cell_type": "code",
   "execution_count": 57,
   "id": "c6d3d919",
   "metadata": {},
   "outputs": [],
   "source": [
    "string0 = 'python'\n",
    "string1 = \"machine learning\""
   ]
  },
  {
   "cell_type": "code",
   "execution_count": 58,
   "id": "51513f6d",
   "metadata": {},
   "outputs": [],
   "source": [
    "string2 = \"\"\"This is multiline string\"\"\""
   ]
  },
  {
   "cell_type": "code",
   "execution_count": 59,
   "id": "289b88cc",
   "metadata": {},
   "outputs": [],
   "source": [
    "# Converting to uppercase string0.upper\n",
    "# Similarly string.lower()"
   ]
  },
  {
   "cell_type": "code",
   "execution_count": 62,
   "id": "88bdfbc9",
   "metadata": {},
   "outputs": [
    {
     "data": {
      "text/plain": [
       "['machine', 'learning']"
      ]
     },
     "execution_count": 62,
     "metadata": {},
     "output_type": "execute_result"
    }
   ],
   "source": [
    "tokens = string1.split(' ')\n",
    "tokens"
   ]
  },
  {
   "cell_type": "code",
   "execution_count": 63,
   "id": "9a32c482",
   "metadata": {},
   "outputs": [],
   "source": [
    "# Functional Programming\n",
    "\n",
    "# MAP"
   ]
  },
  {
   "cell_type": "code",
   "execution_count": 65,
   "id": "d4593935",
   "metadata": {},
   "outputs": [
    {
     "name": "stdout",
     "output_type": "stream",
     "text": [
      "[1, 4, 9, 16, 25, 36, 49, 64, 81]\n"
     ]
    }
   ],
   "source": [
    "intList = [1,2,3,4,5,6,7,8,9]\n",
    "\n",
    "squareList = []\n",
    "\n",
    "for x in intList:\n",
    "    squareList.append(pow(x , 2))\n",
    "\n",
    "print(squareList)"
   ]
  },
  {
   "cell_type": "code",
   "execution_count": 66,
   "id": "c1f33be3",
   "metadata": {},
   "outputs": [],
   "source": [
    "def square_me(x):\n",
    "    return x*x"
   ]
  },
  {
   "cell_type": "code",
   "execution_count": 67,
   "id": "f99c0c00",
   "metadata": {},
   "outputs": [],
   "source": [
    "squareList = map(square_me, intList)"
   ]
  },
  {
   "cell_type": "code",
   "execution_count": 68,
   "id": "a127a493",
   "metadata": {},
   "outputs": [
    {
     "data": {
      "text/plain": [
       "[1, 4, 9, 16, 25, 36, 49, 64, 81]"
      ]
     },
     "execution_count": 68,
     "metadata": {},
     "output_type": "execute_result"
    }
   ],
   "source": [
    "list(squareList)"
   ]
  },
  {
   "cell_type": "code",
   "execution_count": 69,
   "id": "9cc54984",
   "metadata": {},
   "outputs": [
    {
     "data": {
      "text/plain": [
       "[1, 4, 9, 16, 25, 36, 49, 64, 81]"
      ]
     },
     "execution_count": 69,
     "metadata": {},
     "output_type": "execute_result"
    }
   ],
   "source": [
    "squareList = map(lambda x: x*x, intList)\n",
    "list(squareList)"
   ]
  },
  {
   "cell_type": "code",
   "execution_count": 71,
   "id": "6bc40c4d",
   "metadata": {},
   "outputs": [],
   "source": [
    "# EXample 2: Filter"
   ]
  },
  {
   "cell_type": "code",
   "execution_count": 72,
   "id": "9de4b7a0",
   "metadata": {},
   "outputs": [
    {
     "data": {
      "text/plain": [
       "[2, 4, 6, 8]"
      ]
     },
     "execution_count": 72,
     "metadata": {},
     "output_type": "execute_result"
    }
   ],
   "source": [
    "evenInts = filter(lambda x: x%2 == 0, intList)\n",
    "list(evenInts)"
   ]
  },
  {
   "cell_type": "code",
   "execution_count": 73,
   "id": "6fa011c5",
   "metadata": {},
   "outputs": [],
   "source": [
    "# Modules and Packages"
   ]
  },
  {
   "cell_type": "code",
   "execution_count": 74,
   "id": "e002c51b",
   "metadata": {},
   "outputs": [
    {
     "data": {
      "text/plain": [
       "4.0"
      ]
     },
     "execution_count": 74,
     "metadata": {},
     "output_type": "execute_result"
    }
   ],
   "source": [
    "import math\n",
    "\n",
    "# taking square root of a value\n",
    "math.sqrt(16)"
   ]
  },
  {
   "cell_type": "code",
   "execution_count": 75,
   "id": "d1488c48",
   "metadata": {},
   "outputs": [],
   "source": [
    "from random import sample"
   ]
  },
  {
   "cell_type": "code",
   "execution_count": 77,
   "id": "fe7a75da",
   "metadata": {},
   "outputs": [
    {
     "data": {
      "text/plain": [
       "[6, 2, 3]"
      ]
     },
     "execution_count": 77,
     "metadata": {},
     "output_type": "execute_result"
    }
   ],
   "source": [
    "# Generating a random set of numbers in a range\n",
    "\n",
    "sample(range(0, 11), 3) "
   ]
  },
  {
   "cell_type": "code",
   "execution_count": 78,
   "id": "58a3e9a0",
   "metadata": {},
   "outputs": [],
   "source": [
    "# Other Features"
   ]
  },
  {
   "cell_type": "code",
   "execution_count": 79,
   "id": "78488513",
   "metadata": {},
   "outputs": [
    {
     "data": {
      "text/plain": [
       "[967,\n",
       " 577,\n",
       " 678,\n",
       " 574,\n",
       " 826,\n",
       " 849,\n",
       " 761,\n",
       " 811,\n",
       " 536,\n",
       " 631,\n",
       " 941,\n",
       " 587,\n",
       " 908,\n",
       " 581,\n",
       " 508,\n",
       " 708,\n",
       " 295,\n",
       " 219,\n",
       " 120,\n",
       " 870]"
      ]
     },
     "execution_count": 79,
     "metadata": {},
     "output_type": "execute_result"
    }
   ],
   "source": [
    "import random \n",
    "\n",
    "randomList = random.sample(range(0,1001), 20)\n",
    "randomList"
   ]
  },
  {
   "cell_type": "code",
   "execution_count": 80,
   "id": "32839a6c",
   "metadata": {},
   "outputs": [],
   "source": [
    "from statistics import mean, median\n",
    "\n",
    "def getMeanAndMedian(listNum):\n",
    "    return mean(listNum), median(listNum)"
   ]
  },
  {
   "cell_type": "code",
   "execution_count": 81,
   "id": "53179224",
   "metadata": {},
   "outputs": [],
   "source": [
    "mean, median = getMeanAndMedian(randomList)"
   ]
  },
  {
   "cell_type": "code",
   "execution_count": 82,
   "id": "d6abaa12",
   "metadata": {},
   "outputs": [
    {
     "name": "stdout",
     "output_type": "stream",
     "text": [
      "Mean:  647.35  Median:  654.5\n"
     ]
    }
   ],
   "source": [
    "print(\"Mean: \", mean, \" Median: \", median)"
   ]
  },
  {
   "cell_type": "code",
   "execution_count": null,
   "id": "34b9e0e6",
   "metadata": {},
   "outputs": [],
   "source": []
  }
 ],
 "metadata": {
  "kernelspec": {
   "display_name": "Python 3 (ipykernel)",
   "language": "python",
   "name": "python3"
  },
  "language_info": {
   "codemirror_mode": {
    "name": "ipython",
    "version": 3
   },
   "file_extension": ".py",
   "mimetype": "text/x-python",
   "name": "python",
   "nbconvert_exporter": "python",
   "pygments_lexer": "ipython3",
   "version": "3.10.7"
  }
 },
 "nbformat": 4,
 "nbformat_minor": 5
}
