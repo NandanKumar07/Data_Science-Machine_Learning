{
 "cells": [
  {
   "cell_type": "markdown",
   "id": "27996d42",
   "metadata": {},
   "source": [
    "### Working With DataFrames in Python"
   ]
  },
  {
   "cell_type": "code",
   "execution_count": 1,
   "id": "3779edc5",
   "metadata": {},
   "outputs": [],
   "source": [
    "# importing pandas\n",
    "\n",
    "import pandas as pd"
   ]
  },
  {
   "cell_type": "markdown",
   "id": "618ec4bd",
   "metadata": {},
   "source": [
    " Pandas library has provided different methods for lading datasets with many different formats onto DataFrames. <br/>\n",
    "     For Example:- <br/>\n",
    "        1. read_csv - to read comma separated values <br/>\n",
    "        2. read_json - to read data with json format <br/>\n",
    "        3. read_fwf - to read data with fixed width format <br/>\n",
    "        4. read_excel - to read excel files <br/>\n",
    "        5. read_table - to read database tables <br/>\n",
    " To find out all available mehtods, we can type pd.read_method_name? and then press TAB in Jupyter notebook"
   ]
  },
  {
   "cell_type": "code",
   "execution_count": 2,
   "id": "44ee2df9",
   "metadata": {},
   "outputs": [],
   "source": [
    "pd.read_csv?"
   ]
  },
  {
   "cell_type": "code",
   "execution_count": 3,
   "id": "d2a9b358",
   "metadata": {},
   "outputs": [
    {
     "data": {
      "text/plain": [
       "pandas.core.frame.DataFrame"
      ]
     },
     "execution_count": 3,
     "metadata": {},
     "output_type": "execute_result"
    }
   ],
   "source": [
    "# Loading the data into the dataframe\n",
    "\n",
    "ipl_perform_df = pd.read_csv('./data/Most Runs - 2021.csv')\n",
    "type(ipl_perform_df)"
   ]
  },
  {
   "cell_type": "markdown",
   "id": "f25ee5ff",
   "metadata": {},
   "source": [
    "ipl_auction_df is of type DataFrame. Now we can use pandas features such as selecting, filtering, aggregating, \n",
    "joining, slicing/dicing of data to prepare and explore the dataset"
   ]
  },
  {
   "cell_type": "code",
   "execution_count": 4,
   "id": "d7c5d9c2",
   "metadata": {},
   "outputs": [
    {
     "data": {
      "text/html": [
       "<div>\n",
       "<style scoped>\n",
       "    .dataframe tbody tr th:only-of-type {\n",
       "        vertical-align: middle;\n",
       "    }\n",
       "\n",
       "    .dataframe tbody tr th {\n",
       "        vertical-align: top;\n",
       "    }\n",
       "\n",
       "    .dataframe thead th {\n",
       "        text-align: right;\n",
       "    }\n",
       "</style>\n",
       "<table border=\"1\" class=\"dataframe\">\n",
       "  <thead>\n",
       "    <tr style=\"text-align: right;\">\n",
       "      <th></th>\n",
       "      <th>POS</th>\n",
       "      <th>Player</th>\n",
       "      <th>Mat</th>\n",
       "      <th>...</th>\n",
       "      <th>50</th>\n",
       "      <th>4s</th>\n",
       "      <th>6s</th>\n",
       "    </tr>\n",
       "  </thead>\n",
       "  <tbody>\n",
       "    <tr>\n",
       "      <th>0</th>\n",
       "      <td>1</td>\n",
       "      <td>Ruturaj Gaikwad</td>\n",
       "      <td>16</td>\n",
       "      <td>...</td>\n",
       "      <td>4</td>\n",
       "      <td>64</td>\n",
       "      <td>23</td>\n",
       "    </tr>\n",
       "    <tr>\n",
       "      <th>1</th>\n",
       "      <td>2</td>\n",
       "      <td>Faf du Plessis</td>\n",
       "      <td>16</td>\n",
       "      <td>...</td>\n",
       "      <td>6</td>\n",
       "      <td>60</td>\n",
       "      <td>23</td>\n",
       "    </tr>\n",
       "    <tr>\n",
       "      <th>2</th>\n",
       "      <td>3</td>\n",
       "      <td>KL Rahul</td>\n",
       "      <td>13</td>\n",
       "      <td>...</td>\n",
       "      <td>6</td>\n",
       "      <td>48</td>\n",
       "      <td>30</td>\n",
       "    </tr>\n",
       "    <tr>\n",
       "      <th>3</th>\n",
       "      <td>4</td>\n",
       "      <td>Shikhar Dhawan</td>\n",
       "      <td>16</td>\n",
       "      <td>...</td>\n",
       "      <td>3</td>\n",
       "      <td>63</td>\n",
       "      <td>16</td>\n",
       "    </tr>\n",
       "    <tr>\n",
       "      <th>4</th>\n",
       "      <td>5</td>\n",
       "      <td>Glenn Maxwell</td>\n",
       "      <td>15</td>\n",
       "      <td>...</td>\n",
       "      <td>6</td>\n",
       "      <td>48</td>\n",
       "      <td>21</td>\n",
       "    </tr>\n",
       "  </tbody>\n",
       "</table>\n",
       "<p>5 rows × 14 columns</p>\n",
       "</div>"
      ],
      "text/plain": [
       "   POS           Player  Mat  ...  50  4s  6s\n",
       "0    1  Ruturaj Gaikwad   16  ...   4  64  23\n",
       "1    2   Faf du Plessis   16  ...   6  60  23\n",
       "2    3         KL Rahul   13  ...   6  48  30\n",
       "3    4   Shikhar Dhawan   16  ...   3  63  16\n",
       "4    5    Glenn Maxwell   15  ...   6  48  21\n",
       "\n",
       "[5 rows x 14 columns]"
      ]
     },
     "execution_count": 4,
     "metadata": {},
     "output_type": "execute_result"
    }
   ],
   "source": [
    "# Displaying the first few records of the dataframe\n",
    "\n",
    "pd.set_option('display.max_columns', 7)   # => we will only print a maximum of 7 columns\n",
    "ipl_perform_df.head(5)     # here 5 is the no. of records or no. of rows to display."
   ]
  },
  {
   "cell_type": "code",
   "execution_count": 5,
   "id": "b23cd39c",
   "metadata": {},
   "outputs": [
    {
     "data": {
      "text/plain": [
       "['POS',\n",
       " 'Player',\n",
       " 'Mat',\n",
       " 'Inns',\n",
       " 'NO',\n",
       " 'Runs',\n",
       " 'HS',\n",
       " 'Avg',\n",
       " 'BF',\n",
       " 'SR',\n",
       " '100',\n",
       " '50',\n",
       " '4s',\n",
       " '6s']"
      ]
     },
     "execution_count": 5,
     "metadata": {},
     "output_type": "execute_result"
    }
   ],
   "source": [
    "# Finding Summary of the DataFrame\n",
    "\n",
    "list(ipl_perform_df.columns)"
   ]
  },
  {
   "cell_type": "code",
   "execution_count": 6,
   "id": "850c5b76",
   "metadata": {},
   "outputs": [
    {
     "data": {
      "text/html": [
       "<div>\n",
       "<style scoped>\n",
       "    .dataframe tbody tr th:only-of-type {\n",
       "        vertical-align: middle;\n",
       "    }\n",
       "\n",
       "    .dataframe tbody tr th {\n",
       "        vertical-align: top;\n",
       "    }\n",
       "\n",
       "    .dataframe thead th {\n",
       "        text-align: right;\n",
       "    }\n",
       "</style>\n",
       "<table border=\"1\" class=\"dataframe\">\n",
       "  <thead>\n",
       "    <tr style=\"text-align: right;\">\n",
       "      <th></th>\n",
       "      <th>0</th>\n",
       "      <th>1</th>\n",
       "      <th>2</th>\n",
       "      <th>3</th>\n",
       "      <th>4</th>\n",
       "    </tr>\n",
       "  </thead>\n",
       "  <tbody>\n",
       "    <tr>\n",
       "      <th>POS</th>\n",
       "      <td>1</td>\n",
       "      <td>2</td>\n",
       "      <td>3</td>\n",
       "      <td>4</td>\n",
       "      <td>5</td>\n",
       "    </tr>\n",
       "    <tr>\n",
       "      <th>Player</th>\n",
       "      <td>Ruturaj Gaikwad</td>\n",
       "      <td>Faf du Plessis</td>\n",
       "      <td>KL Rahul</td>\n",
       "      <td>Shikhar Dhawan</td>\n",
       "      <td>Glenn Maxwell</td>\n",
       "    </tr>\n",
       "    <tr>\n",
       "      <th>Mat</th>\n",
       "      <td>16</td>\n",
       "      <td>16</td>\n",
       "      <td>13</td>\n",
       "      <td>16</td>\n",
       "      <td>15</td>\n",
       "    </tr>\n",
       "    <tr>\n",
       "      <th>Inns</th>\n",
       "      <td>16</td>\n",
       "      <td>16</td>\n",
       "      <td>13</td>\n",
       "      <td>16</td>\n",
       "      <td>14</td>\n",
       "    </tr>\n",
       "    <tr>\n",
       "      <th>NO</th>\n",
       "      <td>2</td>\n",
       "      <td>2</td>\n",
       "      <td>3</td>\n",
       "      <td>1</td>\n",
       "      <td>2</td>\n",
       "    </tr>\n",
       "    <tr>\n",
       "      <th>Runs</th>\n",
       "      <td>635</td>\n",
       "      <td>633</td>\n",
       "      <td>626</td>\n",
       "      <td>587</td>\n",
       "      <td>513</td>\n",
       "    </tr>\n",
       "    <tr>\n",
       "      <th>HS</th>\n",
       "      <td>101*</td>\n",
       "      <td>95*</td>\n",
       "      <td>98*</td>\n",
       "      <td>92</td>\n",
       "      <td>78</td>\n",
       "    </tr>\n",
       "    <tr>\n",
       "      <th>Avg</th>\n",
       "      <td>45.35</td>\n",
       "      <td>45.21</td>\n",
       "      <td>62.6</td>\n",
       "      <td>39.13</td>\n",
       "      <td>42.75</td>\n",
       "    </tr>\n",
       "    <tr>\n",
       "      <th>BF</th>\n",
       "      <td>466</td>\n",
       "      <td>458</td>\n",
       "      <td>451</td>\n",
       "      <td>471</td>\n",
       "      <td>356</td>\n",
       "    </tr>\n",
       "    <tr>\n",
       "      <th>SR</th>\n",
       "      <td>136.26</td>\n",
       "      <td>138.2</td>\n",
       "      <td>138.8</td>\n",
       "      <td>124.62</td>\n",
       "      <td>144.1</td>\n",
       "    </tr>\n",
       "    <tr>\n",
       "      <th>100</th>\n",
       "      <td>1</td>\n",
       "      <td>0</td>\n",
       "      <td>0</td>\n",
       "      <td>0</td>\n",
       "      <td>0</td>\n",
       "    </tr>\n",
       "    <tr>\n",
       "      <th>50</th>\n",
       "      <td>4</td>\n",
       "      <td>6</td>\n",
       "      <td>6</td>\n",
       "      <td>3</td>\n",
       "      <td>6</td>\n",
       "    </tr>\n",
       "    <tr>\n",
       "      <th>4s</th>\n",
       "      <td>64</td>\n",
       "      <td>60</td>\n",
       "      <td>48</td>\n",
       "      <td>63</td>\n",
       "      <td>48</td>\n",
       "    </tr>\n",
       "    <tr>\n",
       "      <th>6s</th>\n",
       "      <td>23</td>\n",
       "      <td>23</td>\n",
       "      <td>30</td>\n",
       "      <td>16</td>\n",
       "      <td>21</td>\n",
       "    </tr>\n",
       "  </tbody>\n",
       "</table>\n",
       "</div>"
      ],
      "text/plain": [
       "                      0               1         2               3  \\\n",
       "POS                   1               2         3               4   \n",
       "Player  Ruturaj Gaikwad  Faf du Plessis  KL Rahul  Shikhar Dhawan   \n",
       "Mat                  16              16        13              16   \n",
       "Inns                 16              16        13              16   \n",
       "NO                    2               2         3               1   \n",
       "Runs                635             633       626             587   \n",
       "HS                 101*             95*       98*              92   \n",
       "Avg               45.35           45.21      62.6           39.13   \n",
       "BF                  466             458       451             471   \n",
       "SR               136.26           138.2     138.8          124.62   \n",
       "100                   1               0         0               0   \n",
       "50                    4               6         6               3   \n",
       "4s                   64              60        48              63   \n",
       "6s                   23              23        30              16   \n",
       "\n",
       "                    4  \n",
       "POS                 5  \n",
       "Player  Glenn Maxwell  \n",
       "Mat                15  \n",
       "Inns               14  \n",
       "NO                  2  \n",
       "Runs              513  \n",
       "HS                 78  \n",
       "Avg             42.75  \n",
       "BF                356  \n",
       "SR              144.1  \n",
       "100                 0  \n",
       "50                  6  \n",
       "4s                 48  \n",
       "6s                 21  "
      ]
     },
     "execution_count": 6,
     "metadata": {},
     "output_type": "execute_result"
    }
   ],
   "source": [
    "# other way to print a Dataframe with a large no. of columns(features) is to transpose the dataFrame\n",
    "\n",
    "ipl_perform_df.head(5).transpose()"
   ]
  },
  {
   "cell_type": "code",
   "execution_count": 7,
   "id": "9780dfcd",
   "metadata": {},
   "outputs": [
    {
     "data": {
      "text/plain": [
       "(149, 14)"
      ]
     },
     "execution_count": 7,
     "metadata": {},
     "output_type": "execute_result"
    }
   ],
   "source": [
    "# Dimension of DataFrame \n",
    "\n",
    "ipl_perform_df.shape"
   ]
  },
  {
   "cell_type": "code",
   "execution_count": 8,
   "id": "042acbfe",
   "metadata": {},
   "outputs": [
    {
     "name": "stdout",
     "output_type": "stream",
     "text": [
      "<class 'pandas.core.frame.DataFrame'>\n",
      "RangeIndex: 149 entries, 0 to 148\n",
      "Data columns (total 14 columns):\n",
      " #   Column  Non-Null Count  Dtype  \n",
      "---  ------  --------------  -----  \n",
      " 0   POS     149 non-null    int64  \n",
      " 1   Player  149 non-null    object \n",
      " 2   Mat     149 non-null    int64  \n",
      " 3   Inns    149 non-null    int64  \n",
      " 4   NO      149 non-null    int64  \n",
      " 5   Runs    149 non-null    int64  \n",
      " 6   HS      149 non-null    object \n",
      " 7   Avg     149 non-null    float64\n",
      " 8   BF      149 non-null    int64  \n",
      " 9   SR      149 non-null    float64\n",
      " 10  100     149 non-null    int64  \n",
      " 11  50      149 non-null    int64  \n",
      " 12  4s      149 non-null    int64  \n",
      " 13  6s      149 non-null    int64  \n",
      "dtypes: float64(2), int64(10), object(2)\n",
      "memory usage: 16.4+ KB\n"
     ]
    }
   ],
   "source": [
    "# More Detailed Summary\n",
    "\n",
    "ipl_perform_df.info()"
   ]
  },
  {
   "cell_type": "code",
   "execution_count": 9,
   "id": "43d589f5",
   "metadata": {},
   "outputs": [
    {
     "data": {
      "text/html": [
       "<div>\n",
       "<style scoped>\n",
       "    .dataframe tbody tr th:only-of-type {\n",
       "        vertical-align: middle;\n",
       "    }\n",
       "\n",
       "    .dataframe tbody tr th {\n",
       "        vertical-align: top;\n",
       "    }\n",
       "\n",
       "    .dataframe thead th {\n",
       "        text-align: right;\n",
       "    }\n",
       "</style>\n",
       "<table border=\"1\" class=\"dataframe\">\n",
       "  <thead>\n",
       "    <tr style=\"text-align: right;\">\n",
       "      <th></th>\n",
       "      <th>POS</th>\n",
       "      <th>Player</th>\n",
       "      <th>Mat</th>\n",
       "      <th>...</th>\n",
       "      <th>50</th>\n",
       "      <th>4s</th>\n",
       "      <th>6s</th>\n",
       "    </tr>\n",
       "  </thead>\n",
       "  <tbody>\n",
       "    <tr>\n",
       "      <th>0</th>\n",
       "      <td>1</td>\n",
       "      <td>Ruturaj Gaikwad</td>\n",
       "      <td>16</td>\n",
       "      <td>...</td>\n",
       "      <td>4</td>\n",
       "      <td>64</td>\n",
       "      <td>23</td>\n",
       "    </tr>\n",
       "    <tr>\n",
       "      <th>1</th>\n",
       "      <td>2</td>\n",
       "      <td>Faf du Plessis</td>\n",
       "      <td>16</td>\n",
       "      <td>...</td>\n",
       "      <td>6</td>\n",
       "      <td>60</td>\n",
       "      <td>23</td>\n",
       "    </tr>\n",
       "    <tr>\n",
       "      <th>2</th>\n",
       "      <td>3</td>\n",
       "      <td>KL Rahul</td>\n",
       "      <td>13</td>\n",
       "      <td>...</td>\n",
       "      <td>6</td>\n",
       "      <td>48</td>\n",
       "      <td>30</td>\n",
       "    </tr>\n",
       "    <tr>\n",
       "      <th>3</th>\n",
       "      <td>4</td>\n",
       "      <td>Shikhar Dhawan</td>\n",
       "      <td>16</td>\n",
       "      <td>...</td>\n",
       "      <td>3</td>\n",
       "      <td>63</td>\n",
       "      <td>16</td>\n",
       "    </tr>\n",
       "    <tr>\n",
       "      <th>4</th>\n",
       "      <td>5</td>\n",
       "      <td>Glenn Maxwell</td>\n",
       "      <td>15</td>\n",
       "      <td>...</td>\n",
       "      <td>6</td>\n",
       "      <td>48</td>\n",
       "      <td>21</td>\n",
       "    </tr>\n",
       "  </tbody>\n",
       "</table>\n",
       "<p>5 rows × 14 columns</p>\n",
       "</div>"
      ],
      "text/plain": [
       "   POS           Player  Mat  ...  50  4s  6s\n",
       "0    1  Ruturaj Gaikwad   16  ...   4  64  23\n",
       "1    2   Faf du Plessis   16  ...   6  60  23\n",
       "2    3         KL Rahul   13  ...   6  48  30\n",
       "3    4   Shikhar Dhawan   16  ...   3  63  16\n",
       "4    5    Glenn Maxwell   15  ...   6  48  21\n",
       "\n",
       "[5 rows x 14 columns]"
      ]
     },
     "execution_count": 9,
     "metadata": {},
     "output_type": "execute_result"
    }
   ],
   "source": [
    "# Slicing and Indexing of a DataFrame\n",
    "\n",
    "# [start_row:end_row]  but not including end_row\n",
    "\n",
    "ipl_perform_df[0:5]"
   ]
  },
  {
   "cell_type": "code",
   "execution_count": 10,
   "id": "11f55a03",
   "metadata": {},
   "outputs": [
    {
     "data": {
      "text/html": [
       "<div>\n",
       "<style scoped>\n",
       "    .dataframe tbody tr th:only-of-type {\n",
       "        vertical-align: middle;\n",
       "    }\n",
       "\n",
       "    .dataframe tbody tr th {\n",
       "        vertical-align: top;\n",
       "    }\n",
       "\n",
       "    .dataframe thead th {\n",
       "        text-align: right;\n",
       "    }\n",
       "</style>\n",
       "<table border=\"1\" class=\"dataframe\">\n",
       "  <thead>\n",
       "    <tr style=\"text-align: right;\">\n",
       "      <th></th>\n",
       "      <th>POS</th>\n",
       "      <th>Player</th>\n",
       "      <th>Mat</th>\n",
       "      <th>...</th>\n",
       "      <th>50</th>\n",
       "      <th>4s</th>\n",
       "      <th>6s</th>\n",
       "    </tr>\n",
       "  </thead>\n",
       "  <tbody>\n",
       "    <tr>\n",
       "      <th>144</th>\n",
       "      <td>145</td>\n",
       "      <td>Kuldip Yadav</td>\n",
       "      <td>1</td>\n",
       "      <td>...</td>\n",
       "      <td>0</td>\n",
       "      <td>0</td>\n",
       "      <td>0</td>\n",
       "    </tr>\n",
       "    <tr>\n",
       "      <th>145</th>\n",
       "      <td>146</td>\n",
       "      <td>Sarfaraz Khan</td>\n",
       "      <td>2</td>\n",
       "      <td>...</td>\n",
       "      <td>0</td>\n",
       "      <td>0</td>\n",
       "      <td>0</td>\n",
       "    </tr>\n",
       "    <tr>\n",
       "      <th>146</th>\n",
       "      <td>147</td>\n",
       "      <td>Anuj Rawat</td>\n",
       "      <td>2</td>\n",
       "      <td>...</td>\n",
       "      <td>0</td>\n",
       "      <td>0</td>\n",
       "      <td>0</td>\n",
       "    </tr>\n",
       "    <tr>\n",
       "      <th>147</th>\n",
       "      <td>148</td>\n",
       "      <td>Jimmy Neesham</td>\n",
       "      <td>3</td>\n",
       "      <td>...</td>\n",
       "      <td>0</td>\n",
       "      <td>0</td>\n",
       "      <td>0</td>\n",
       "    </tr>\n",
       "    <tr>\n",
       "      <th>148</th>\n",
       "      <td>149</td>\n",
       "      <td>Piyush Chawla</td>\n",
       "      <td>1</td>\n",
       "      <td>...</td>\n",
       "      <td>0</td>\n",
       "      <td>0</td>\n",
       "      <td>0</td>\n",
       "    </tr>\n",
       "  </tbody>\n",
       "</table>\n",
       "<p>5 rows × 14 columns</p>\n",
       "</div>"
      ],
      "text/plain": [
       "     POS         Player  Mat  ...  50  4s  6s\n",
       "144  145   Kuldip Yadav    1  ...   0   0   0\n",
       "145  146  Sarfaraz Khan    2  ...   0   0   0\n",
       "146  147     Anuj Rawat    2  ...   0   0   0\n",
       "147  148  Jimmy Neesham    3  ...   0   0   0\n",
       "148  149  Piyush Chawla    1  ...   0   0   0\n",
       "\n",
       "[5 rows x 14 columns]"
      ]
     },
     "execution_count": 10,
     "metadata": {},
     "output_type": "execute_result"
    }
   ],
   "source": [
    "# Negative indexing - It can be used to select records from tht bottom of the DataFrame\n",
    "\n",
    "ipl_perform_df[-5:]   # selecting the last five records"
   ]
  },
  {
   "cell_type": "code",
   "execution_count": 11,
   "id": "73bd1bcb",
   "metadata": {
    "scrolled": true
   },
   "outputs": [
    {
     "data": {
      "text/plain": [
       "0    Ruturaj Gaikwad\n",
       "1     Faf du Plessis\n",
       "2           KL Rahul\n",
       "3     Shikhar Dhawan\n",
       "4      Glenn Maxwell\n",
       "Name: Player, dtype: object"
      ]
     },
     "execution_count": 11,
     "metadata": {},
     "output_type": "execute_result"
    }
   ],
   "source": [
    "# Specific Column of a DataFrame can also be selected or sliced by column names.\n",
    "\n",
    "ipl_perform_df['Player'][0:5]"
   ]
  },
  {
   "cell_type": "code",
   "execution_count": 12,
   "id": "d61483fe",
   "metadata": {},
   "outputs": [
    {
     "data": {
      "text/html": [
       "<div>\n",
       "<style scoped>\n",
       "    .dataframe tbody tr th:only-of-type {\n",
       "        vertical-align: middle;\n",
       "    }\n",
       "\n",
       "    .dataframe tbody tr th {\n",
       "        vertical-align: top;\n",
       "    }\n",
       "\n",
       "    .dataframe thead th {\n",
       "        text-align: right;\n",
       "    }\n",
       "</style>\n",
       "<table border=\"1\" class=\"dataframe\">\n",
       "  <thead>\n",
       "    <tr style=\"text-align: right;\">\n",
       "      <th></th>\n",
       "      <th>Player</th>\n",
       "      <th>Mat</th>\n",
       "    </tr>\n",
       "  </thead>\n",
       "  <tbody>\n",
       "    <tr>\n",
       "      <th>0</th>\n",
       "      <td>Ruturaj Gaikwad</td>\n",
       "      <td>16</td>\n",
       "    </tr>\n",
       "    <tr>\n",
       "      <th>1</th>\n",
       "      <td>Faf du Plessis</td>\n",
       "      <td>16</td>\n",
       "    </tr>\n",
       "    <tr>\n",
       "      <th>2</th>\n",
       "      <td>KL Rahul</td>\n",
       "      <td>13</td>\n",
       "    </tr>\n",
       "    <tr>\n",
       "      <th>3</th>\n",
       "      <td>Shikhar Dhawan</td>\n",
       "      <td>16</td>\n",
       "    </tr>\n",
       "    <tr>\n",
       "      <th>4</th>\n",
       "      <td>Glenn Maxwell</td>\n",
       "      <td>15</td>\n",
       "    </tr>\n",
       "  </tbody>\n",
       "</table>\n",
       "</div>"
      ],
      "text/plain": [
       "            Player  Mat\n",
       "0  Ruturaj Gaikwad   16\n",
       "1   Faf du Plessis   16\n",
       "2         KL Rahul   13\n",
       "3   Shikhar Dhawan   16\n",
       "4    Glenn Maxwell   15"
      ]
     },
     "execution_count": 12,
     "metadata": {},
     "output_type": "execute_result"
    }
   ],
   "source": [
    "# Selecting two columns\n",
    "\n",
    "ipl_perform_df[['Player', 'Mat']][0:5]"
   ]
  },
  {
   "cell_type": "code",
   "execution_count": 13,
   "id": "513fb136",
   "metadata": {},
   "outputs": [
    {
     "data": {
      "text/html": [
       "<div>\n",
       "<style scoped>\n",
       "    .dataframe tbody tr th:only-of-type {\n",
       "        vertical-align: middle;\n",
       "    }\n",
       "\n",
       "    .dataframe tbody tr th {\n",
       "        vertical-align: top;\n",
       "    }\n",
       "\n",
       "    .dataframe thead th {\n",
       "        text-align: right;\n",
       "    }\n",
       "</style>\n",
       "<table border=\"1\" class=\"dataframe\">\n",
       "  <thead>\n",
       "    <tr style=\"text-align: right;\">\n",
       "      <th></th>\n",
       "      <th>Player</th>\n",
       "      <th>Mat</th>\n",
       "      <th>Inns</th>\n",
       "      <th>NO</th>\n",
       "      <th>Runs</th>\n",
       "      <th>HS</th>\n",
       "      <th>Avg</th>\n",
       "    </tr>\n",
       "  </thead>\n",
       "  <tbody>\n",
       "    <tr>\n",
       "      <th>4</th>\n",
       "      <td>Glenn Maxwell</td>\n",
       "      <td>15</td>\n",
       "      <td>14</td>\n",
       "      <td>2</td>\n",
       "      <td>513</td>\n",
       "      <td>78</td>\n",
       "      <td>42.75</td>\n",
       "    </tr>\n",
       "    <tr>\n",
       "      <th>5</th>\n",
       "      <td>Sanju Samson</td>\n",
       "      <td>14</td>\n",
       "      <td>14</td>\n",
       "      <td>2</td>\n",
       "      <td>484</td>\n",
       "      <td>119</td>\n",
       "      <td>40.33</td>\n",
       "    </tr>\n",
       "    <tr>\n",
       "      <th>6</th>\n",
       "      <td>Prithvi Shaw</td>\n",
       "      <td>15</td>\n",
       "      <td>15</td>\n",
       "      <td>0</td>\n",
       "      <td>479</td>\n",
       "      <td>82</td>\n",
       "      <td>31.93</td>\n",
       "    </tr>\n",
       "    <tr>\n",
       "      <th>7</th>\n",
       "      <td>Shubman Gill</td>\n",
       "      <td>17</td>\n",
       "      <td>17</td>\n",
       "      <td>0</td>\n",
       "      <td>478</td>\n",
       "      <td>57</td>\n",
       "      <td>28.11</td>\n",
       "    </tr>\n",
       "    <tr>\n",
       "      <th>8</th>\n",
       "      <td>Mayank Agarwal</td>\n",
       "      <td>12</td>\n",
       "      <td>12</td>\n",
       "      <td>1</td>\n",
       "      <td>441</td>\n",
       "      <td>99*</td>\n",
       "      <td>40.09</td>\n",
       "    </tr>\n",
       "  </tbody>\n",
       "</table>\n",
       "</div>"
      ],
      "text/plain": [
       "           Player  Mat  Inns  NO  Runs   HS    Avg\n",
       "4   Glenn Maxwell   15    14   2   513   78  42.75\n",
       "5    Sanju Samson   14    14   2   484  119  40.33\n",
       "6    Prithvi Shaw   15    15   0   479   82  31.93\n",
       "7    Shubman Gill   17    17   0   478   57  28.11\n",
       "8  Mayank Agarwal   12    12   1   441  99*  40.09"
      ]
     },
     "execution_count": 13,
     "metadata": {},
     "output_type": "execute_result"
    }
   ],
   "source": [
    "# Selecting the Specific rows and Column indexes.\n",
    "\n",
    "# [start_row:end_row, start_column:end_column] - it should be passed to iloc method of DataFrame\n",
    "\n",
    "ipl_perform_df.iloc[4:9, 1:8]"
   ]
  },
  {
   "cell_type": "code",
   "execution_count": 14,
   "id": "ee7f874b",
   "metadata": {},
   "outputs": [
    {
     "data": {
      "text/plain": [
       "0    48\n",
       "1    44\n",
       "2    30\n",
       "3    11\n",
       "4     8\n",
       "5     5\n",
       "6     2\n",
       "9     1\n",
       "Name: NO, dtype: int64"
      ]
     },
     "execution_count": 14,
     "metadata": {},
     "output_type": "execute_result"
    }
   ],
   "source": [
    "# Value Counts and Cross Tabulations\n",
    "\n",
    "    # value_counts() provides the occurrences of each unique value in a column.\n",
    "\n",
    "ipl_perform_df.NO.value_counts()"
   ]
  },
  {
   "cell_type": "code",
   "execution_count": 15,
   "id": "5a6da347",
   "metadata": {},
   "outputs": [
    {
     "data": {
      "text/plain": [
       "0    32.214765\n",
       "1    29.530201\n",
       "2    20.134228\n",
       "3     7.382550\n",
       "4     5.369128\n",
       "5     3.355705\n",
       "6     1.342282\n",
       "9     0.671141\n",
       "Name: NO, dtype: float64"
      ]
     },
     "execution_count": 15,
     "metadata": {},
     "output_type": "execute_result"
    }
   ],
   "source": [
    "# Calculating the percentage of occurrences of each unique value\n",
    "\n",
    "ipl_perform_df.NO.value_counts(normalize=True)*100"
   ]
  },
  {
   "cell_type": "code",
   "execution_count": 16,
   "id": "2dbfa81b",
   "metadata": {},
   "outputs": [
    {
     "data": {
      "text/html": [
       "<div>\n",
       "<style scoped>\n",
       "    .dataframe tbody tr th:only-of-type {\n",
       "        vertical-align: middle;\n",
       "    }\n",
       "\n",
       "    .dataframe tbody tr th {\n",
       "        vertical-align: top;\n",
       "    }\n",
       "\n",
       "    .dataframe thead th {\n",
       "        text-align: right;\n",
       "    }\n",
       "</style>\n",
       "<table border=\"1\" class=\"dataframe\">\n",
       "  <thead>\n",
       "    <tr style=\"text-align: right;\">\n",
       "      <th>NO</th>\n",
       "      <th>0</th>\n",
       "      <th>1</th>\n",
       "      <th>2</th>\n",
       "      <th>...</th>\n",
       "      <th>5</th>\n",
       "      <th>6</th>\n",
       "      <th>9</th>\n",
       "    </tr>\n",
       "    <tr>\n",
       "      <th>Mat</th>\n",
       "      <th></th>\n",
       "      <th></th>\n",
       "      <th></th>\n",
       "      <th></th>\n",
       "      <th></th>\n",
       "      <th></th>\n",
       "      <th></th>\n",
       "    </tr>\n",
       "  </thead>\n",
       "  <tbody>\n",
       "    <tr>\n",
       "      <th>1</th>\n",
       "      <td>11</td>\n",
       "      <td>3</td>\n",
       "      <td>0</td>\n",
       "      <td>...</td>\n",
       "      <td>0</td>\n",
       "      <td>0</td>\n",
       "      <td>0</td>\n",
       "    </tr>\n",
       "    <tr>\n",
       "      <th>2</th>\n",
       "      <td>6</td>\n",
       "      <td>4</td>\n",
       "      <td>0</td>\n",
       "      <td>...</td>\n",
       "      <td>0</td>\n",
       "      <td>0</td>\n",
       "      <td>0</td>\n",
       "    </tr>\n",
       "    <tr>\n",
       "      <th>3</th>\n",
       "      <td>6</td>\n",
       "      <td>5</td>\n",
       "      <td>1</td>\n",
       "      <td>...</td>\n",
       "      <td>0</td>\n",
       "      <td>0</td>\n",
       "      <td>0</td>\n",
       "    </tr>\n",
       "    <tr>\n",
       "      <th>4</th>\n",
       "      <td>4</td>\n",
       "      <td>3</td>\n",
       "      <td>1</td>\n",
       "      <td>...</td>\n",
       "      <td>0</td>\n",
       "      <td>0</td>\n",
       "      <td>0</td>\n",
       "    </tr>\n",
       "    <tr>\n",
       "      <th>5</th>\n",
       "      <td>5</td>\n",
       "      <td>1</td>\n",
       "      <td>3</td>\n",
       "      <td>...</td>\n",
       "      <td>0</td>\n",
       "      <td>0</td>\n",
       "      <td>0</td>\n",
       "    </tr>\n",
       "    <tr>\n",
       "      <th>6</th>\n",
       "      <td>1</td>\n",
       "      <td>3</td>\n",
       "      <td>0</td>\n",
       "      <td>...</td>\n",
       "      <td>0</td>\n",
       "      <td>0</td>\n",
       "      <td>0</td>\n",
       "    </tr>\n",
       "    <tr>\n",
       "      <th>7</th>\n",
       "      <td>3</td>\n",
       "      <td>2</td>\n",
       "      <td>1</td>\n",
       "      <td>...</td>\n",
       "      <td>1</td>\n",
       "      <td>0</td>\n",
       "      <td>0</td>\n",
       "    </tr>\n",
       "    <tr>\n",
       "      <th>8</th>\n",
       "      <td>1</td>\n",
       "      <td>4</td>\n",
       "      <td>3</td>\n",
       "      <td>...</td>\n",
       "      <td>0</td>\n",
       "      <td>0</td>\n",
       "      <td>0</td>\n",
       "    </tr>\n",
       "    <tr>\n",
       "      <th>9</th>\n",
       "      <td>3</td>\n",
       "      <td>3</td>\n",
       "      <td>0</td>\n",
       "      <td>...</td>\n",
       "      <td>0</td>\n",
       "      <td>0</td>\n",
       "      <td>0</td>\n",
       "    </tr>\n",
       "    <tr>\n",
       "      <th>10</th>\n",
       "      <td>1</td>\n",
       "      <td>4</td>\n",
       "      <td>1</td>\n",
       "      <td>...</td>\n",
       "      <td>0</td>\n",
       "      <td>0</td>\n",
       "      <td>0</td>\n",
       "    </tr>\n",
       "    <tr>\n",
       "      <th>11</th>\n",
       "      <td>2</td>\n",
       "      <td>2</td>\n",
       "      <td>3</td>\n",
       "      <td>...</td>\n",
       "      <td>0</td>\n",
       "      <td>1</td>\n",
       "      <td>0</td>\n",
       "    </tr>\n",
       "    <tr>\n",
       "      <th>12</th>\n",
       "      <td>1</td>\n",
       "      <td>3</td>\n",
       "      <td>3</td>\n",
       "      <td>...</td>\n",
       "      <td>0</td>\n",
       "      <td>0</td>\n",
       "      <td>0</td>\n",
       "    </tr>\n",
       "    <tr>\n",
       "      <th>13</th>\n",
       "      <td>1</td>\n",
       "      <td>0</td>\n",
       "      <td>2</td>\n",
       "      <td>...</td>\n",
       "      <td>0</td>\n",
       "      <td>0</td>\n",
       "      <td>0</td>\n",
       "    </tr>\n",
       "    <tr>\n",
       "      <th>14</th>\n",
       "      <td>1</td>\n",
       "      <td>3</td>\n",
       "      <td>3</td>\n",
       "      <td>...</td>\n",
       "      <td>3</td>\n",
       "      <td>1</td>\n",
       "      <td>0</td>\n",
       "    </tr>\n",
       "    <tr>\n",
       "      <th>15</th>\n",
       "      <td>1</td>\n",
       "      <td>2</td>\n",
       "      <td>4</td>\n",
       "      <td>...</td>\n",
       "      <td>0</td>\n",
       "      <td>0</td>\n",
       "      <td>0</td>\n",
       "    </tr>\n",
       "    <tr>\n",
       "      <th>16</th>\n",
       "      <td>0</td>\n",
       "      <td>2</td>\n",
       "      <td>3</td>\n",
       "      <td>...</td>\n",
       "      <td>0</td>\n",
       "      <td>0</td>\n",
       "      <td>1</td>\n",
       "    </tr>\n",
       "    <tr>\n",
       "      <th>17</th>\n",
       "      <td>1</td>\n",
       "      <td>0</td>\n",
       "      <td>2</td>\n",
       "      <td>...</td>\n",
       "      <td>1</td>\n",
       "      <td>0</td>\n",
       "      <td>0</td>\n",
       "    </tr>\n",
       "  </tbody>\n",
       "</table>\n",
       "<p>17 rows × 8 columns</p>\n",
       "</div>"
      ],
      "text/plain": [
       "NO    0  1  2  ...  5  6  9\n",
       "Mat            ...         \n",
       "1    11  3  0  ...  0  0  0\n",
       "2     6  4  0  ...  0  0  0\n",
       "3     6  5  1  ...  0  0  0\n",
       "4     4  3  1  ...  0  0  0\n",
       "5     5  1  3  ...  0  0  0\n",
       "6     1  3  0  ...  0  0  0\n",
       "7     3  2  1  ...  1  0  0\n",
       "8     1  4  3  ...  0  0  0\n",
       "9     3  3  0  ...  0  0  0\n",
       "10    1  4  1  ...  0  0  0\n",
       "11    2  2  3  ...  0  1  0\n",
       "12    1  3  3  ...  0  0  0\n",
       "13    1  0  2  ...  0  0  0\n",
       "14    1  3  3  ...  3  1  0\n",
       "15    1  2  4  ...  0  0  0\n",
       "16    0  2  3  ...  0  0  1\n",
       "17    1  0  2  ...  1  0  0\n",
       "\n",
       "[17 rows x 8 columns]"
      ]
     },
     "execution_count": 16,
     "metadata": {},
     "output_type": "execute_result"
    }
   ],
   "source": [
    "# Cross Tabulation features - You can use the crosstab function to analyze the relationship between two categorical variables. \n",
    "# For example, to create a cross-tabulation between \"Mat\" and \"NO\" (Matches and Number of Not Outs):\n",
    "\n",
    "pd.crosstab( ipl_perform_df['Mat'], ipl_perform_df['NO'] )"
   ]
  },
  {
   "cell_type": "code",
   "execution_count": 17,
   "id": "53bfd048",
   "metadata": {},
   "outputs": [
    {
     "data": {
      "text/html": [
       "<div>\n",
       "<style scoped>\n",
       "    .dataframe tbody tr th:only-of-type {\n",
       "        vertical-align: middle;\n",
       "    }\n",
       "\n",
       "    .dataframe tbody tr th {\n",
       "        vertical-align: top;\n",
       "    }\n",
       "\n",
       "    .dataframe thead th {\n",
       "        text-align: right;\n",
       "    }\n",
       "</style>\n",
       "<table border=\"1\" class=\"dataframe\">\n",
       "  <thead>\n",
       "    <tr style=\"text-align: right;\">\n",
       "      <th></th>\n",
       "      <th>Player</th>\n",
       "      <th>Runs</th>\n",
       "    </tr>\n",
       "  </thead>\n",
       "  <tbody>\n",
       "    <tr>\n",
       "      <th>148</th>\n",
       "      <td>Piyush Chawla</td>\n",
       "      <td>0</td>\n",
       "    </tr>\n",
       "    <tr>\n",
       "      <th>139</th>\n",
       "      <td>Ben Stokes</td>\n",
       "      <td>0</td>\n",
       "    </tr>\n",
       "    <tr>\n",
       "      <th>140</th>\n",
       "      <td>Marco Jansen</td>\n",
       "      <td>0</td>\n",
       "    </tr>\n",
       "    <tr>\n",
       "      <th>141</th>\n",
       "      <td>Shahbaz Nadeem</td>\n",
       "      <td>0</td>\n",
       "    </tr>\n",
       "    <tr>\n",
       "      <th>142</th>\n",
       "      <td>Kamlesh Nagarkoti</td>\n",
       "      <td>0</td>\n",
       "    </tr>\n",
       "  </tbody>\n",
       "</table>\n",
       "</div>"
      ],
      "text/plain": [
       "                Player  Runs\n",
       "148      Piyush Chawla     0\n",
       "139         Ben Stokes     0\n",
       "140       Marco Jansen     0\n",
       "141     Shahbaz Nadeem     0\n",
       "142  Kamlesh Nagarkoti     0"
      ]
     },
     "execution_count": 17,
     "metadata": {},
     "output_type": "execute_result"
    }
   ],
   "source": [
    "# Sorting Dataframes by Column Values\n",
    "\n",
    "ipl_perform_df[['Player', 'Runs']].sort_values('Runs')[0:5]        # Ascending Order Sorted"
   ]
  },
  {
   "cell_type": "code",
   "execution_count": 18,
   "id": "d3b96506",
   "metadata": {},
   "outputs": [
    {
     "data": {
      "text/html": [
       "<div>\n",
       "<style scoped>\n",
       "    .dataframe tbody tr th:only-of-type {\n",
       "        vertical-align: middle;\n",
       "    }\n",
       "\n",
       "    .dataframe tbody tr th {\n",
       "        vertical-align: top;\n",
       "    }\n",
       "\n",
       "    .dataframe thead th {\n",
       "        text-align: right;\n",
       "    }\n",
       "</style>\n",
       "<table border=\"1\" class=\"dataframe\">\n",
       "  <thead>\n",
       "    <tr style=\"text-align: right;\">\n",
       "      <th></th>\n",
       "      <th>Player</th>\n",
       "      <th>Runs</th>\n",
       "    </tr>\n",
       "  </thead>\n",
       "  <tbody>\n",
       "    <tr>\n",
       "      <th>0</th>\n",
       "      <td>Ruturaj Gaikwad</td>\n",
       "      <td>635</td>\n",
       "    </tr>\n",
       "    <tr>\n",
       "      <th>1</th>\n",
       "      <td>Faf du Plessis</td>\n",
       "      <td>633</td>\n",
       "    </tr>\n",
       "    <tr>\n",
       "      <th>2</th>\n",
       "      <td>KL Rahul</td>\n",
       "      <td>626</td>\n",
       "    </tr>\n",
       "    <tr>\n",
       "      <th>3</th>\n",
       "      <td>Shikhar Dhawan</td>\n",
       "      <td>587</td>\n",
       "    </tr>\n",
       "    <tr>\n",
       "      <th>4</th>\n",
       "      <td>Glenn Maxwell</td>\n",
       "      <td>513</td>\n",
       "    </tr>\n",
       "  </tbody>\n",
       "</table>\n",
       "</div>"
      ],
      "text/plain": [
       "            Player  Runs\n",
       "0  Ruturaj Gaikwad   635\n",
       "1   Faf du Plessis   633\n",
       "2         KL Rahul   626\n",
       "3   Shikhar Dhawan   587\n",
       "4    Glenn Maxwell   513"
      ]
     },
     "execution_count": 18,
     "metadata": {},
     "output_type": "execute_result"
    }
   ],
   "source": [
    "# Descending Order :-\n",
    "\n",
    "ipl_perform_df[['Player', 'Runs']].sort_values('Runs', ascending = False)[0:5] "
   ]
  },
  {
   "cell_type": "code",
   "execution_count": 19,
   "id": "5bc2744c",
   "metadata": {
    "scrolled": true
   },
   "outputs": [
    {
     "data": {
      "text/html": [
       "<div>\n",
       "<style scoped>\n",
       "    .dataframe tbody tr th:only-of-type {\n",
       "        vertical-align: middle;\n",
       "    }\n",
       "\n",
       "    .dataframe tbody tr th {\n",
       "        vertical-align: top;\n",
       "    }\n",
       "\n",
       "    .dataframe thead th {\n",
       "        text-align: right;\n",
       "    }\n",
       "</style>\n",
       "<table border=\"1\" class=\"dataframe\">\n",
       "  <thead>\n",
       "    <tr style=\"text-align: right;\">\n",
       "      <th></th>\n",
       "      <th>Player</th>\n",
       "      <th>Runs</th>\n",
       "      <th>HS</th>\n",
       "      <th>premium</th>\n",
       "    </tr>\n",
       "  </thead>\n",
       "  <tbody>\n",
       "    <tr>\n",
       "      <th>0</th>\n",
       "      <td>Ruturaj Gaikwad</td>\n",
       "      <td>635</td>\n",
       "      <td>NaN</td>\n",
       "      <td>NaN</td>\n",
       "    </tr>\n",
       "    <tr>\n",
       "      <th>1</th>\n",
       "      <td>Faf du Plessis</td>\n",
       "      <td>633</td>\n",
       "      <td>NaN</td>\n",
       "      <td>NaN</td>\n",
       "    </tr>\n",
       "    <tr>\n",
       "      <th>2</th>\n",
       "      <td>KL Rahul</td>\n",
       "      <td>626</td>\n",
       "      <td>NaN</td>\n",
       "      <td>NaN</td>\n",
       "    </tr>\n",
       "    <tr>\n",
       "      <th>3</th>\n",
       "      <td>Shikhar Dhawan</td>\n",
       "      <td>587</td>\n",
       "      <td>92.0</td>\n",
       "      <td>495.0</td>\n",
       "    </tr>\n",
       "    <tr>\n",
       "      <th>4</th>\n",
       "      <td>Glenn Maxwell</td>\n",
       "      <td>513</td>\n",
       "      <td>78.0</td>\n",
       "      <td>435.0</td>\n",
       "    </tr>\n",
       "  </tbody>\n",
       "</table>\n",
       "</div>"
      ],
      "text/plain": [
       "            Player  Runs    HS  premium\n",
       "0  Ruturaj Gaikwad   635   NaN      NaN\n",
       "1   Faf du Plessis   633   NaN      NaN\n",
       "2         KL Rahul   626   NaN      NaN\n",
       "3   Shikhar Dhawan   587  92.0    495.0\n",
       "4    Glenn Maxwell   513  78.0    435.0"
      ]
     },
     "execution_count": 19,
     "metadata": {},
     "output_type": "execute_result"
    }
   ],
   "source": [
    "# Creating new columns\n",
    "\n",
    "# need to convert HS column from string to int\n",
    "\n",
    "ipl_perform_df['HS'] = pd.to_numeric(ipl_perform_df['HS'], errors = 'coerce')\n",
    "\n",
    "ipl_perform_df['premium'] = ipl_perform_df['Runs'] - ipl_perform_df['HS']\n",
    "ipl_perform_df[['Player', 'Runs', 'HS', 'premium']][0:5]"
   ]
  },
  {
   "cell_type": "code",
   "execution_count": 20,
   "id": "ffc60298",
   "metadata": {},
   "outputs": [
    {
     "data": {
      "text/html": [
       "<div>\n",
       "<style scoped>\n",
       "    .dataframe tbody tr th:only-of-type {\n",
       "        vertical-align: middle;\n",
       "    }\n",
       "\n",
       "    .dataframe tbody tr th {\n",
       "        vertical-align: top;\n",
       "    }\n",
       "\n",
       "    .dataframe thead th {\n",
       "        text-align: right;\n",
       "    }\n",
       "</style>\n",
       "<table border=\"1\" class=\"dataframe\">\n",
       "  <thead>\n",
       "    <tr style=\"text-align: right;\">\n",
       "      <th></th>\n",
       "      <th>Player</th>\n",
       "      <th>Runs</th>\n",
       "      <th>HS</th>\n",
       "      <th>premium</th>\n",
       "    </tr>\n",
       "  </thead>\n",
       "  <tbody>\n",
       "    <tr>\n",
       "      <th>3</th>\n",
       "      <td>Shikhar Dhawan</td>\n",
       "      <td>587</td>\n",
       "      <td>92.0</td>\n",
       "      <td>495.0</td>\n",
       "    </tr>\n",
       "    <tr>\n",
       "      <th>4</th>\n",
       "      <td>Glenn Maxwell</td>\n",
       "      <td>513</td>\n",
       "      <td>78.0</td>\n",
       "      <td>435.0</td>\n",
       "    </tr>\n",
       "    <tr>\n",
       "      <th>7</th>\n",
       "      <td>Shubman Gill</td>\n",
       "      <td>478</td>\n",
       "      <td>57.0</td>\n",
       "      <td>421.0</td>\n",
       "    </tr>\n",
       "    <tr>\n",
       "      <th>6</th>\n",
       "      <td>Prithvi Shaw</td>\n",
       "      <td>479</td>\n",
       "      <td>82.0</td>\n",
       "      <td>397.0</td>\n",
       "    </tr>\n",
       "    <tr>\n",
       "      <th>5</th>\n",
       "      <td>Sanju Samson</td>\n",
       "      <td>484</td>\n",
       "      <td>119.0</td>\n",
       "      <td>365.0</td>\n",
       "    </tr>\n",
       "  </tbody>\n",
       "</table>\n",
       "</div>"
      ],
      "text/plain": [
       "           Player  Runs     HS  premium\n",
       "3  Shikhar Dhawan   587   92.0    495.0\n",
       "4   Glenn Maxwell   513   78.0    435.0\n",
       "7    Shubman Gill   478   57.0    421.0\n",
       "6    Prithvi Shaw   479   82.0    397.0\n",
       "5    Sanju Samson   484  119.0    365.0"
      ]
     },
     "execution_count": 20,
     "metadata": {},
     "output_type": "execute_result"
    }
   ],
   "source": [
    "ipl_perform_df[['Player', 'Runs', 'HS', 'premium']].sort_values('premium', ascending = False)[0:5]"
   ]
  },
  {
   "cell_type": "markdown",
   "id": "6c412d3c",
   "metadata": {},
   "source": [
    "Grouping and Aggregating - Sometimes it may be required to group records based on column values and then apply \n",
    "aggreagated operations such as mean, maximum, minimum, etc. For example, to find average Runs for each strike rate category,\n",
    "group all records by strike_rate and then apply mean() on Runs column\n",
    "\n"
   ]
  },
  {
   "cell_type": "code",
   "execution_count": 21,
   "id": "d4f18dc2",
   "metadata": {},
   "outputs": [
    {
     "data": {
      "text/plain": [
       "SR\n",
       "0.00       0.0\n",
       "25.00      1.0\n",
       "33.33      1.0\n",
       "37.03     10.0\n",
       "41.17      7.0\n",
       "          ... \n",
       "170.00    34.0\n",
       "193.10    56.0\n",
       "216.66    13.0\n",
       "233.33    14.0\n",
       "261.11    47.0\n",
       "Name: Runs, Length: 119, dtype: float64"
      ]
     },
     "execution_count": 21,
     "metadata": {},
     "output_type": "execute_result"
    }
   ],
   "source": [
    "# Grouping and Aggregating\n",
    "\n",
    "ipl_perform_df.groupby('SR')['Runs'].mean()"
   ]
  },
  {
   "cell_type": "markdown",
   "id": "8549483d",
   "metadata": {},
   "source": [
    "The above operation returns a pd.Series data structure. To create a DataFrame, we can call reset_index() as shown below\n",
    "on the returned data structure."
   ]
  },
  {
   "cell_type": "code",
   "execution_count": 22,
   "id": "6b990f69",
   "metadata": {},
   "outputs": [
    {
     "name": "stdout",
     "output_type": "stream",
     "text": [
      "         SR  Runs\n",
      "0      0.00   0.0\n",
      "1     25.00   1.0\n",
      "2     33.33   1.0\n",
      "3     37.03  10.0\n",
      "4     41.17   7.0\n",
      "..      ...   ...\n",
      "114  170.00  34.0\n",
      "115  193.10  56.0\n",
      "116  216.66  13.0\n",
      "117  233.33  14.0\n",
      "118  261.11  47.0\n",
      "\n",
      "[119 rows x 2 columns]\n"
     ]
    }
   ],
   "source": [
    "Runs_by_SR = ipl_perform_df.groupby('SR')['Runs'].mean().reset_index()\n",
    "print(Runs_by_SR)"
   ]
  },
  {
   "cell_type": "code",
   "execution_count": 23,
   "id": "0bcc99d4",
   "metadata": {},
   "outputs": [],
   "source": [
    "# Data can be grouped using multiple column"
   ]
  },
  {
   "cell_type": "code",
   "execution_count": 24,
   "id": "7d48449c",
   "metadata": {},
   "outputs": [
    {
     "name": "stdout",
     "output_type": "stream",
     "text": [
      "         SR  Inns  Runs\n",
      "0      0.00     1   0.0\n",
      "1      0.00     2   0.0\n",
      "2     25.00     1   1.0\n",
      "3     25.00     4   1.0\n",
      "4     33.33     1   1.0\n",
      "..      ...   ...   ...\n",
      "124  170.00     3  34.0\n",
      "125  193.10     4  56.0\n",
      "126  216.66     3  13.0\n",
      "127  233.33     1  14.0\n",
      "128  261.11     3  47.0\n",
      "\n",
      "[129 rows x 3 columns]\n"
     ]
    }
   ],
   "source": [
    "Runs_by_SR_inns = ipl_perform_df.groupby(['SR','Inns'])['Runs'].mean().reset_index()\n",
    "print(Runs_by_SR_inns)"
   ]
  },
  {
   "cell_type": "markdown",
   "id": "99f43bb7",
   "metadata": {},
   "source": [
    " Joining DataFrames\n",
    "\n",
    " To merge two DataFrames, pandas method merge() can be called from one of the DataFrames and the other DataFrame can be passed\n",
    " as a parameter to it. It also takes a parameter on, which is the common column in both the DataFrames and should be present in \n",
    " both the DataFrames. "
   ]
  },
  {
   "cell_type": "code",
   "execution_count": 25,
   "id": "e19102c6",
   "metadata": {},
   "outputs": [
    {
     "data": {
      "text/html": [
       "<div>\n",
       "<style scoped>\n",
       "    .dataframe tbody tr th:only-of-type {\n",
       "        vertical-align: middle;\n",
       "    }\n",
       "\n",
       "    .dataframe tbody tr th {\n",
       "        vertical-align: top;\n",
       "    }\n",
       "\n",
       "    .dataframe thead th {\n",
       "        text-align: right;\n",
       "    }\n",
       "</style>\n",
       "<table border=\"1\" class=\"dataframe\">\n",
       "  <thead>\n",
       "    <tr style=\"text-align: right;\">\n",
       "      <th></th>\n",
       "      <th>SR</th>\n",
       "      <th>Inns</th>\n",
       "      <th>Runs_x</th>\n",
       "      <th>Runs_y</th>\n",
       "    </tr>\n",
       "  </thead>\n",
       "  <tbody>\n",
       "    <tr>\n",
       "      <th>0</th>\n",
       "      <td>0.00</td>\n",
       "      <td>1</td>\n",
       "      <td>0.0</td>\n",
       "      <td>0.0</td>\n",
       "    </tr>\n",
       "    <tr>\n",
       "      <th>1</th>\n",
       "      <td>0.00</td>\n",
       "      <td>2</td>\n",
       "      <td>0.0</td>\n",
       "      <td>0.0</td>\n",
       "    </tr>\n",
       "    <tr>\n",
       "      <th>2</th>\n",
       "      <td>25.00</td>\n",
       "      <td>1</td>\n",
       "      <td>1.0</td>\n",
       "      <td>1.0</td>\n",
       "    </tr>\n",
       "    <tr>\n",
       "      <th>3</th>\n",
       "      <td>25.00</td>\n",
       "      <td>4</td>\n",
       "      <td>1.0</td>\n",
       "      <td>1.0</td>\n",
       "    </tr>\n",
       "    <tr>\n",
       "      <th>4</th>\n",
       "      <td>33.33</td>\n",
       "      <td>1</td>\n",
       "      <td>1.0</td>\n",
       "      <td>1.0</td>\n",
       "    </tr>\n",
       "    <tr>\n",
       "      <th>...</th>\n",
       "      <td>...</td>\n",
       "      <td>...</td>\n",
       "      <td>...</td>\n",
       "      <td>...</td>\n",
       "    </tr>\n",
       "    <tr>\n",
       "      <th>124</th>\n",
       "      <td>170.00</td>\n",
       "      <td>3</td>\n",
       "      <td>34.0</td>\n",
       "      <td>34.0</td>\n",
       "    </tr>\n",
       "    <tr>\n",
       "      <th>125</th>\n",
       "      <td>193.10</td>\n",
       "      <td>4</td>\n",
       "      <td>56.0</td>\n",
       "      <td>56.0</td>\n",
       "    </tr>\n",
       "    <tr>\n",
       "      <th>126</th>\n",
       "      <td>216.66</td>\n",
       "      <td>3</td>\n",
       "      <td>13.0</td>\n",
       "      <td>13.0</td>\n",
       "    </tr>\n",
       "    <tr>\n",
       "      <th>127</th>\n",
       "      <td>233.33</td>\n",
       "      <td>1</td>\n",
       "      <td>14.0</td>\n",
       "      <td>14.0</td>\n",
       "    </tr>\n",
       "    <tr>\n",
       "      <th>128</th>\n",
       "      <td>261.11</td>\n",
       "      <td>3</td>\n",
       "      <td>47.0</td>\n",
       "      <td>47.0</td>\n",
       "    </tr>\n",
       "  </tbody>\n",
       "</table>\n",
       "<p>129 rows × 4 columns</p>\n",
       "</div>"
      ],
      "text/plain": [
       "         SR  Inns  Runs_x  Runs_y\n",
       "0      0.00     1     0.0     0.0\n",
       "1      0.00     2     0.0     0.0\n",
       "2     25.00     1     1.0     1.0\n",
       "3     25.00     4     1.0     1.0\n",
       "4     33.33     1     1.0     1.0\n",
       "..      ...   ...     ...     ...\n",
       "124  170.00     3    34.0    34.0\n",
       "125  193.10     4    56.0    56.0\n",
       "126  216.66     3    13.0    13.0\n",
       "127  233.33     1    14.0    14.0\n",
       "128  261.11     3    47.0    47.0\n",
       "\n",
       "[129 rows x 4 columns]"
      ]
     },
     "execution_count": 25,
     "metadata": {},
     "output_type": "execute_result"
    }
   ],
   "source": [
    "Runs_comparison = Runs_by_SR_inns.merge(Runs_by_SR, on = 'SR', how = 'outer')\n",
    "Runs_comparison"
   ]
  },
  {
   "cell_type": "markdown",
   "id": "c38d7da9",
   "metadata": {},
   "source": [
    "We will join the above two DataFrames created and then compare teh difference in 'Runs'. Because the column name 'Runs' is same \n",
    "in both the DataFrames, it automatically renames them to _x and _y. Runs_x comes from the left table(Runs_by_SR_inns) and Runs_y\n",
    "comes from the right table(Runs_by_SR)\n"
   ]
  },
  {
   "cell_type": "markdown",
   "id": "18719232",
   "metadata": {},
   "source": [
    " Re-naming Columns\n",
    "\n",
    "For renaming multiple columns simultaneously, the method can take a dictionary as a parameter, where the keys should be \n",
    "existing column names and the values should the new names to be assigned.\n"
   ]
  },
  {
   "cell_type": "code",
   "execution_count": 26,
   "id": "76e4e0d3",
   "metadata": {},
   "outputs": [
    {
     "data": {
      "text/html": [
       "<div>\n",
       "<style scoped>\n",
       "    .dataframe tbody tr th:only-of-type {\n",
       "        vertical-align: middle;\n",
       "    }\n",
       "\n",
       "    .dataframe tbody tr th {\n",
       "        vertical-align: top;\n",
       "    }\n",
       "\n",
       "    .dataframe thead th {\n",
       "        text-align: right;\n",
       "    }\n",
       "</style>\n",
       "<table border=\"1\" class=\"dataframe\">\n",
       "  <thead>\n",
       "    <tr style=\"text-align: right;\">\n",
       "      <th></th>\n",
       "      <th>SR</th>\n",
       "      <th>Inns</th>\n",
       "      <th>Runs_by_SR_inns</th>\n",
       "      <th>Runs_by_SR</th>\n",
       "    </tr>\n",
       "  </thead>\n",
       "  <tbody>\n",
       "    <tr>\n",
       "      <th>0</th>\n",
       "      <td>0.00</td>\n",
       "      <td>1</td>\n",
       "      <td>0.0</td>\n",
       "      <td>0.0</td>\n",
       "    </tr>\n",
       "    <tr>\n",
       "      <th>1</th>\n",
       "      <td>0.00</td>\n",
       "      <td>2</td>\n",
       "      <td>0.0</td>\n",
       "      <td>0.0</td>\n",
       "    </tr>\n",
       "    <tr>\n",
       "      <th>2</th>\n",
       "      <td>25.00</td>\n",
       "      <td>1</td>\n",
       "      <td>1.0</td>\n",
       "      <td>1.0</td>\n",
       "    </tr>\n",
       "    <tr>\n",
       "      <th>3</th>\n",
       "      <td>25.00</td>\n",
       "      <td>4</td>\n",
       "      <td>1.0</td>\n",
       "      <td>1.0</td>\n",
       "    </tr>\n",
       "    <tr>\n",
       "      <th>4</th>\n",
       "      <td>33.33</td>\n",
       "      <td>1</td>\n",
       "      <td>1.0</td>\n",
       "      <td>1.0</td>\n",
       "    </tr>\n",
       "  </tbody>\n",
       "</table>\n",
       "</div>"
      ],
      "text/plain": [
       "      SR  Inns  Runs_by_SR_inns  Runs_by_SR\n",
       "0   0.00     1              0.0         0.0\n",
       "1   0.00     2              0.0         0.0\n",
       "2  25.00     1              1.0         1.0\n",
       "3  25.00     4              1.0         1.0\n",
       "4  33.33     1              1.0         1.0"
      ]
     },
     "execution_count": 26,
     "metadata": {},
     "output_type": "execute_result"
    }
   ],
   "source": [
    "Runs_comparison.rename(columns = {'Runs_x' : 'Runs_by_SR_inns', 'Runs_y' : 'Runs_by_SR'}, inplace = True)\n",
    "Runs_comparison.head(5)"
   ]
  },
  {
   "cell_type": "markdown",
   "id": "2e7e78f0",
   "metadata": {},
   "source": [
    " Applying Operations to Multiple Columns\n",
    "\n",
    "Consider as an example a situation where we would like to find whether players carry a premium if they belong to a specific\n",
    "specifc strike rate (SR) and INNS category. The premium (we call it a change) is calculated in percentage terms and calculated \n",
    "as follows:\n",
    "\n",
    "    Change = (Avg. Runs for all player in SR and INNS category - Avg. Runs for all player in an SR category) / (Avg. RUNS for all player in an SR category)"
   ]
  },
  {
   "cell_type": "code",
   "execution_count": 27,
   "id": "04020f31",
   "metadata": {},
   "outputs": [
    {
     "name": "stderr",
     "output_type": "stream",
     "text": [
      "C:\\Users\\NANDAN KUMAR\\AppData\\Local\\Temp\\ipykernel_3140\\2233501050.py:5: RuntimeWarning: invalid value encountered in double_scalars\n",
      "  Runs_comparison['change'] = Runs_comparison.apply(lambda rec:(rec.Runs_by_SR_inns - rec.Runs_by_SR) / rec.Runs_by_SR, axis = 1)\n"
     ]
    },
    {
     "data": {
      "text/html": [
       "<div>\n",
       "<style scoped>\n",
       "    .dataframe tbody tr th:only-of-type {\n",
       "        vertical-align: middle;\n",
       "    }\n",
       "\n",
       "    .dataframe tbody tr th {\n",
       "        vertical-align: top;\n",
       "    }\n",
       "\n",
       "    .dataframe thead th {\n",
       "        text-align: right;\n",
       "    }\n",
       "</style>\n",
       "<table border=\"1\" class=\"dataframe\">\n",
       "  <thead>\n",
       "    <tr style=\"text-align: right;\">\n",
       "      <th></th>\n",
       "      <th>SR</th>\n",
       "      <th>Inns</th>\n",
       "      <th>Runs_by_SR_inns</th>\n",
       "      <th>Runs_by_SR</th>\n",
       "      <th>change</th>\n",
       "    </tr>\n",
       "  </thead>\n",
       "  <tbody>\n",
       "    <tr>\n",
       "      <th>0</th>\n",
       "      <td>0.00</td>\n",
       "      <td>1</td>\n",
       "      <td>0.0</td>\n",
       "      <td>0.0</td>\n",
       "      <td>NaN</td>\n",
       "    </tr>\n",
       "    <tr>\n",
       "      <th>1</th>\n",
       "      <td>0.00</td>\n",
       "      <td>2</td>\n",
       "      <td>0.0</td>\n",
       "      <td>0.0</td>\n",
       "      <td>NaN</td>\n",
       "    </tr>\n",
       "    <tr>\n",
       "      <th>2</th>\n",
       "      <td>25.00</td>\n",
       "      <td>1</td>\n",
       "      <td>1.0</td>\n",
       "      <td>1.0</td>\n",
       "      <td>0.0</td>\n",
       "    </tr>\n",
       "    <tr>\n",
       "      <th>3</th>\n",
       "      <td>25.00</td>\n",
       "      <td>4</td>\n",
       "      <td>1.0</td>\n",
       "      <td>1.0</td>\n",
       "      <td>0.0</td>\n",
       "    </tr>\n",
       "    <tr>\n",
       "      <th>4</th>\n",
       "      <td>33.33</td>\n",
       "      <td>1</td>\n",
       "      <td>1.0</td>\n",
       "      <td>1.0</td>\n",
       "      <td>0.0</td>\n",
       "    </tr>\n",
       "    <tr>\n",
       "      <th>...</th>\n",
       "      <td>...</td>\n",
       "      <td>...</td>\n",
       "      <td>...</td>\n",
       "      <td>...</td>\n",
       "      <td>...</td>\n",
       "    </tr>\n",
       "    <tr>\n",
       "      <th>124</th>\n",
       "      <td>170.00</td>\n",
       "      <td>3</td>\n",
       "      <td>34.0</td>\n",
       "      <td>34.0</td>\n",
       "      <td>0.0</td>\n",
       "    </tr>\n",
       "    <tr>\n",
       "      <th>125</th>\n",
       "      <td>193.10</td>\n",
       "      <td>4</td>\n",
       "      <td>56.0</td>\n",
       "      <td>56.0</td>\n",
       "      <td>0.0</td>\n",
       "    </tr>\n",
       "    <tr>\n",
       "      <th>126</th>\n",
       "      <td>216.66</td>\n",
       "      <td>3</td>\n",
       "      <td>13.0</td>\n",
       "      <td>13.0</td>\n",
       "      <td>0.0</td>\n",
       "    </tr>\n",
       "    <tr>\n",
       "      <th>127</th>\n",
       "      <td>233.33</td>\n",
       "      <td>1</td>\n",
       "      <td>14.0</td>\n",
       "      <td>14.0</td>\n",
       "      <td>0.0</td>\n",
       "    </tr>\n",
       "    <tr>\n",
       "      <th>128</th>\n",
       "      <td>261.11</td>\n",
       "      <td>3</td>\n",
       "      <td>47.0</td>\n",
       "      <td>47.0</td>\n",
       "      <td>0.0</td>\n",
       "    </tr>\n",
       "  </tbody>\n",
       "</table>\n",
       "<p>129 rows × 5 columns</p>\n",
       "</div>"
      ],
      "text/plain": [
       "         SR  Inns  Runs_by_SR_inns  Runs_by_SR  change\n",
       "0      0.00     1              0.0         0.0     NaN\n",
       "1      0.00     2              0.0         0.0     NaN\n",
       "2     25.00     1              1.0         1.0     0.0\n",
       "3     25.00     4              1.0         1.0     0.0\n",
       "4     33.33     1              1.0         1.0     0.0\n",
       "..      ...   ...              ...         ...     ...\n",
       "124  170.00     3             34.0        34.0     0.0\n",
       "125  193.10     4             56.0        56.0     0.0\n",
       "126  216.66     3             13.0        13.0     0.0\n",
       "127  233.33     1             14.0        14.0     0.0\n",
       "128  261.11     3             47.0        47.0     0.0\n",
       "\n",
       "[129 rows x 5 columns]"
      ]
     },
     "execution_count": 27,
     "metadata": {},
     "output_type": "execute_result"
    }
   ],
   "source": [
    "# To accomplish this, we need to iterate through each row in the DataFrame and then apply above calculations in the column.\n",
    "# The resulting value should be added as a new column to the existing DataFrame. The function apply() can apply a funcuton along\n",
    "# any axis of the Dataframe\n",
    "\n",
    "Runs_comparison['change'] = Runs_comparison.apply(lambda rec:(rec.Runs_by_SR_inns - rec.Runs_by_SR) / rec.Runs_by_SR, axis = 1)\n",
    "Runs_comparison"
   ]
  },
  {
   "cell_type": "code",
   "execution_count": 28,
   "id": "acd821d9",
   "metadata": {},
   "outputs": [
    {
     "data": {
      "text/html": [
       "<div>\n",
       "<style scoped>\n",
       "    .dataframe tbody tr th:only-of-type {\n",
       "        vertical-align: middle;\n",
       "    }\n",
       "\n",
       "    .dataframe tbody tr th {\n",
       "        vertical-align: top;\n",
       "    }\n",
       "\n",
       "    .dataframe thead th {\n",
       "        text-align: right;\n",
       "    }\n",
       "</style>\n",
       "<table border=\"1\" class=\"dataframe\">\n",
       "  <thead>\n",
       "    <tr style=\"text-align: right;\">\n",
       "      <th></th>\n",
       "      <th>Player</th>\n",
       "      <th>6s</th>\n",
       "    </tr>\n",
       "  </thead>\n",
       "  <tbody>\n",
       "    <tr>\n",
       "      <th>0</th>\n",
       "      <td>Ruturaj Gaikwad</td>\n",
       "      <td>23</td>\n",
       "    </tr>\n",
       "    <tr>\n",
       "      <th>1</th>\n",
       "      <td>Faf du Plessis</td>\n",
       "      <td>23</td>\n",
       "    </tr>\n",
       "    <tr>\n",
       "      <th>2</th>\n",
       "      <td>KL Rahul</td>\n",
       "      <td>30</td>\n",
       "    </tr>\n",
       "    <tr>\n",
       "      <th>3</th>\n",
       "      <td>Shikhar Dhawan</td>\n",
       "      <td>16</td>\n",
       "    </tr>\n",
       "    <tr>\n",
       "      <th>4</th>\n",
       "      <td>Glenn Maxwell</td>\n",
       "      <td>21</td>\n",
       "    </tr>\n",
       "    <tr>\n",
       "      <th>5</th>\n",
       "      <td>Sanju Samson</td>\n",
       "      <td>17</td>\n",
       "    </tr>\n",
       "    <tr>\n",
       "      <th>6</th>\n",
       "      <td>Prithvi Shaw</td>\n",
       "      <td>18</td>\n",
       "    </tr>\n",
       "    <tr>\n",
       "      <th>8</th>\n",
       "      <td>Mayank Agarwal</td>\n",
       "      <td>18</td>\n",
       "    </tr>\n",
       "    <tr>\n",
       "      <th>13</th>\n",
       "      <td>Nitish Rana</td>\n",
       "      <td>17</td>\n",
       "    </tr>\n",
       "    <tr>\n",
       "      <th>16</th>\n",
       "      <td>Moeen Ali</td>\n",
       "      <td>19</td>\n",
       "    </tr>\n",
       "    <tr>\n",
       "      <th>18</th>\n",
       "      <td>AB de Villiers</td>\n",
       "      <td>16</td>\n",
       "    </tr>\n",
       "    <tr>\n",
       "      <th>22</th>\n",
       "      <td>Ambati Rayudu</td>\n",
       "      <td>17</td>\n",
       "    </tr>\n",
       "    <tr>\n",
       "      <th>26</th>\n",
       "      <td>Kieron Pollard</td>\n",
       "      <td>16</td>\n",
       "    </tr>\n",
       "  </tbody>\n",
       "</table>\n",
       "</div>"
      ],
      "text/plain": [
       "             Player  6s\n",
       "0   Ruturaj Gaikwad  23\n",
       "1    Faf du Plessis  23\n",
       "2          KL Rahul  30\n",
       "3    Shikhar Dhawan  16\n",
       "4     Glenn Maxwell  21\n",
       "5      Sanju Samson  17\n",
       "6      Prithvi Shaw  18\n",
       "8    Mayank Agarwal  18\n",
       "13      Nitish Rana  17\n",
       "16        Moeen Ali  19\n",
       "18   AB de Villiers  16\n",
       "22    Ambati Rayudu  17\n",
       "26   Kieron Pollard  16"
      ]
     },
     "execution_count": 28,
     "metadata": {},
     "output_type": "execute_result"
    }
   ],
   "source": [
    "# Filtering Records Based on Conditions\n",
    "\n",
    "# Assume we want like to filter certain records such as players who have hit more than 15 sixes.\n",
    "\n",
    "ipl_perform_df[ipl_perform_df['6s'] > 15][['Player','6s']]"
   ]
  },
  {
   "cell_type": "markdown",
   "id": "db629e51",
   "metadata": {},
   "source": [
    "Removing a Column or a Row from a Dataset\n",
    "\n",
    "To remove a column or a row, we can use drop() method on the Dataframe. It takes a parameter axis to specify if a column\n",
    "or a row needs to be dropped.\n",
    "    1. To drop a column, pass the column name and axis as 1.\n",
    "    2. To drop a row, pass the row index and axis as 0."
   ]
  },
  {
   "cell_type": "code",
   "execution_count": 29,
   "id": "4f87dd35",
   "metadata": {},
   "outputs": [
    {
     "data": {
      "text/plain": [
       "Index(['POS', 'Player', 'Inns', 'NO', 'Runs', 'HS', 'Avg', 'BF', 'SR', '100',\n",
       "       '50', '4s', '6s', 'premium'],\n",
       "      dtype='object')"
      ]
     },
     "execution_count": 29,
     "metadata": {},
     "output_type": "execute_result"
    }
   ],
   "source": [
    "# 'Mat' and 'Inns' almost contain same value so we do not need 'Mat' column for our exploration.\n",
    "\n",
    "ipl_perform_df.drop('Mat', inplace = True, axis = 1);\n",
    "ipl_perform_df.columns"
   ]
  },
  {
   "cell_type": "markdown",
   "id": "e5722adb",
   "metadata": {},
   "source": [
    " Handling Missing Values\n",
    "\n",
    "We will use an example dataset called autos-mpg.data, which contains information about different cars and their characteristics\n",
    "such as:- <br/>\n",
    "    1. mpg - miles per gallon <br/>\n",
    "    2. cylinders - Number of cylinders (values between 4 and 8) <br/>\n",
    "    3. displacement - Engine displacement (cu. inches) <br/>\n",
    "    4. horsepower - Engine horsepower <br/>\n",
    "    5. weight - Vehicle weight (lbs.) <br/>\n",
    "    6. acceleration - Time to accelerate from 0 to 60 mph(sec.) <br/>\n",
    "    7. year - Model year (modulo 100) <br/>\n",
    "    8. origin - Origin of car (1. American, 2. European, 3. Japaneese) <br/>\n",
    "    9. name - Vehicle name <br/>"
   ]
  },
  {
   "cell_type": "code",
   "execution_count": 30,
   "id": "6c6ef15f",
   "metadata": {},
   "outputs": [
    {
     "data": {
      "text/html": [
       "<div>\n",
       "<style scoped>\n",
       "    .dataframe tbody tr th:only-of-type {\n",
       "        vertical-align: middle;\n",
       "    }\n",
       "\n",
       "    .dataframe tbody tr th {\n",
       "        vertical-align: top;\n",
       "    }\n",
       "\n",
       "    .dataframe thead th {\n",
       "        text-align: right;\n",
       "    }\n",
       "</style>\n",
       "<table border=\"1\" class=\"dataframe\">\n",
       "  <thead>\n",
       "    <tr style=\"text-align: right;\">\n",
       "      <th></th>\n",
       "      <th>0</th>\n",
       "      <th>1</th>\n",
       "      <th>2</th>\n",
       "      <th>...</th>\n",
       "      <th>6</th>\n",
       "      <th>7</th>\n",
       "      <th>8</th>\n",
       "    </tr>\n",
       "  </thead>\n",
       "  <tbody>\n",
       "    <tr>\n",
       "      <th>0</th>\n",
       "      <td>18.0</td>\n",
       "      <td>8</td>\n",
       "      <td>307.0</td>\n",
       "      <td>...</td>\n",
       "      <td>70</td>\n",
       "      <td>1</td>\n",
       "      <td>chevrolet chevelle malibu</td>\n",
       "    </tr>\n",
       "    <tr>\n",
       "      <th>1</th>\n",
       "      <td>15.0</td>\n",
       "      <td>8</td>\n",
       "      <td>350.0</td>\n",
       "      <td>...</td>\n",
       "      <td>70</td>\n",
       "      <td>1</td>\n",
       "      <td>buick skylark 320</td>\n",
       "    </tr>\n",
       "    <tr>\n",
       "      <th>2</th>\n",
       "      <td>18.0</td>\n",
       "      <td>8</td>\n",
       "      <td>318.0</td>\n",
       "      <td>...</td>\n",
       "      <td>70</td>\n",
       "      <td>1</td>\n",
       "      <td>plymouth satellite</td>\n",
       "    </tr>\n",
       "    <tr>\n",
       "      <th>3</th>\n",
       "      <td>16.0</td>\n",
       "      <td>8</td>\n",
       "      <td>304.0</td>\n",
       "      <td>...</td>\n",
       "      <td>70</td>\n",
       "      <td>1</td>\n",
       "      <td>amc rebel sst</td>\n",
       "    </tr>\n",
       "    <tr>\n",
       "      <th>4</th>\n",
       "      <td>17.0</td>\n",
       "      <td>8</td>\n",
       "      <td>302.0</td>\n",
       "      <td>...</td>\n",
       "      <td>70</td>\n",
       "      <td>1</td>\n",
       "      <td>ford torino</td>\n",
       "    </tr>\n",
       "  </tbody>\n",
       "</table>\n",
       "<p>5 rows × 9 columns</p>\n",
       "</div>"
      ],
      "text/plain": [
       "      0  1      2  ...   6  7                          8\n",
       "0  18.0  8  307.0  ...  70  1  chevrolet chevelle malibu\n",
       "1  15.0  8  350.0  ...  70  1          buick skylark 320\n",
       "2  18.0  8  318.0  ...  70  1         plymouth satellite\n",
       "3  16.0  8  304.0  ...  70  1              amc rebel sst\n",
       "4  17.0  8  302.0  ...  70  1                ford torino\n",
       "\n",
       "[5 rows x 9 columns]"
      ]
     },
     "execution_count": 30,
     "metadata": {},
     "output_type": "execute_result"
    }
   ],
   "source": [
    "autos = pd.read_csv('./data/auto-mpg.data', sep = '\\s+', header = None)\n",
    "autos.head()"
   ]
  },
  {
   "cell_type": "markdown",
   "id": "fe0d17ab",
   "metadata": {},
   "source": [
    "As the dataset does not have a header, the columns are not named. We can name the columns by assigning \n",
    "a list of names to the DataFrame header."
   ]
  },
  {
   "cell_type": "code",
   "execution_count": 31,
   "id": "533017d6",
   "metadata": {},
   "outputs": [
    {
     "data": {
      "text/html": [
       "<div>\n",
       "<style scoped>\n",
       "    .dataframe tbody tr th:only-of-type {\n",
       "        vertical-align: middle;\n",
       "    }\n",
       "\n",
       "    .dataframe tbody tr th {\n",
       "        vertical-align: top;\n",
       "    }\n",
       "\n",
       "    .dataframe thead th {\n",
       "        text-align: right;\n",
       "    }\n",
       "</style>\n",
       "<table border=\"1\" class=\"dataframe\">\n",
       "  <thead>\n",
       "    <tr style=\"text-align: right;\">\n",
       "      <th></th>\n",
       "      <th>mpg</th>\n",
       "      <th>cylinders</th>\n",
       "      <th>displacement</th>\n",
       "      <th>...</th>\n",
       "      <th>year</th>\n",
       "      <th>origin</th>\n",
       "      <th>name</th>\n",
       "    </tr>\n",
       "  </thead>\n",
       "  <tbody>\n",
       "    <tr>\n",
       "      <th>0</th>\n",
       "      <td>18.0</td>\n",
       "      <td>8</td>\n",
       "      <td>307.0</td>\n",
       "      <td>...</td>\n",
       "      <td>70</td>\n",
       "      <td>1</td>\n",
       "      <td>chevrolet chevelle malibu</td>\n",
       "    </tr>\n",
       "    <tr>\n",
       "      <th>1</th>\n",
       "      <td>15.0</td>\n",
       "      <td>8</td>\n",
       "      <td>350.0</td>\n",
       "      <td>...</td>\n",
       "      <td>70</td>\n",
       "      <td>1</td>\n",
       "      <td>buick skylark 320</td>\n",
       "    </tr>\n",
       "    <tr>\n",
       "      <th>2</th>\n",
       "      <td>18.0</td>\n",
       "      <td>8</td>\n",
       "      <td>318.0</td>\n",
       "      <td>...</td>\n",
       "      <td>70</td>\n",
       "      <td>1</td>\n",
       "      <td>plymouth satellite</td>\n",
       "    </tr>\n",
       "    <tr>\n",
       "      <th>3</th>\n",
       "      <td>16.0</td>\n",
       "      <td>8</td>\n",
       "      <td>304.0</td>\n",
       "      <td>...</td>\n",
       "      <td>70</td>\n",
       "      <td>1</td>\n",
       "      <td>amc rebel sst</td>\n",
       "    </tr>\n",
       "    <tr>\n",
       "      <th>4</th>\n",
       "      <td>17.0</td>\n",
       "      <td>8</td>\n",
       "      <td>302.0</td>\n",
       "      <td>...</td>\n",
       "      <td>70</td>\n",
       "      <td>1</td>\n",
       "      <td>ford torino</td>\n",
       "    </tr>\n",
       "  </tbody>\n",
       "</table>\n",
       "<p>5 rows × 9 columns</p>\n",
       "</div>"
      ],
      "text/plain": [
       "    mpg  cylinders  displacement  ... year  origin                       name\n",
       "0  18.0          8         307.0  ...   70       1  chevrolet chevelle malibu\n",
       "1  15.0          8         350.0  ...   70       1          buick skylark 320\n",
       "2  18.0          8         318.0  ...   70       1         plymouth satellite\n",
       "3  16.0          8         304.0  ...   70       1              amc rebel sst\n",
       "4  17.0          8         302.0  ...   70       1                ford torino\n",
       "\n",
       "[5 rows x 9 columns]"
      ]
     },
     "execution_count": 31,
     "metadata": {},
     "output_type": "execute_result"
    }
   ],
   "source": [
    "autos.columns = ['mpg', 'cylinders', 'displacement', 'horsepower', 'weight', 'acceleration', 'year', 'origin', 'name']\n",
    "autos.head(5)"
   ]
  },
  {
   "cell_type": "code",
   "execution_count": 32,
   "id": "9f3d850d",
   "metadata": {},
   "outputs": [
    {
     "name": "stdout",
     "output_type": "stream",
     "text": [
      "<class 'pandas.core.frame.DataFrame'>\n",
      "RangeIndex: 398 entries, 0 to 397\n",
      "Data columns (total 9 columns):\n",
      " #   Column        Non-Null Count  Dtype  \n",
      "---  ------        --------------  -----  \n",
      " 0   mpg           398 non-null    float64\n",
      " 1   cylinders     398 non-null    int64  \n",
      " 2   displacement  398 non-null    float64\n",
      " 3   horsepower    398 non-null    object \n",
      " 4   weight        398 non-null    float64\n",
      " 5   acceleration  398 non-null    float64\n",
      " 6   year          398 non-null    int64  \n",
      " 7   origin        398 non-null    int64  \n",
      " 8   name          398 non-null    object \n",
      "dtypes: float64(4), int64(3), object(2)\n",
      "memory usage: 28.1+ KB\n"
     ]
    }
   ],
   "source": [
    "autos.info()"
   ]
  },
  {
   "cell_type": "markdown",
   "id": "28127a5d",
   "metadata": {},
   "source": [
    "Here the column horsepower has been inferred as object, whereas it should have been inferred as float64. One option to deal\n",
    "with this is to force convert the horsepower column into numeric using pd.to_numeric() method, which should convert \n",
    "the non-numeric values into null values. It takes a parameter erros, which specifies how to deal with non-numeric values. \n",
    "The following are the possible parameter values:-  <br/>\n",
    "    errors: {'ignore', 'raise', 'coerce'}, default raise <br/>\n",
    "        1. if 'raise', then invalid parsing will raise an exception. <br/>\n",
    "        2. if 'coerce', then invalid parsing will be set as NaN.  <br/>\n",
    "        3. if 'ignore', then invalid parsing will return the input. <br/>\n",
    "    In our case, we will use errors = 'coerce' to convert any non-numeric values to null NaN. <br/>"
   ]
  },
  {
   "cell_type": "code",
   "execution_count": 33,
   "id": "671c441a",
   "metadata": {},
   "outputs": [
    {
     "name": "stdout",
     "output_type": "stream",
     "text": [
      "<class 'pandas.core.frame.DataFrame'>\n",
      "RangeIndex: 398 entries, 0 to 397\n",
      "Data columns (total 9 columns):\n",
      " #   Column        Non-Null Count  Dtype  \n",
      "---  ------        --------------  -----  \n",
      " 0   mpg           398 non-null    float64\n",
      " 1   cylinders     398 non-null    int64  \n",
      " 2   displacement  398 non-null    float64\n",
      " 3   horsepower    392 non-null    float64\n",
      " 4   weight        398 non-null    float64\n",
      " 5   acceleration  398 non-null    float64\n",
      " 6   year          398 non-null    int64  \n",
      " 7   origin        398 non-null    int64  \n",
      " 8   name          398 non-null    object \n",
      "dtypes: float64(5), int64(3), object(1)\n",
      "memory usage: 28.1+ KB\n"
     ]
    }
   ],
   "source": [
    "autos[\"horsepower\"] = pd.to_numeric(autos[\"horsepower\"], errors = 'coerce')\n",
    "autos.info()"
   ]
  },
  {
   "cell_type": "code",
   "execution_count": 34,
   "id": "92229f79",
   "metadata": {},
   "outputs": [
    {
     "data": {
      "text/html": [
       "<div>\n",
       "<style scoped>\n",
       "    .dataframe tbody tr th:only-of-type {\n",
       "        vertical-align: middle;\n",
       "    }\n",
       "\n",
       "    .dataframe tbody tr th {\n",
       "        vertical-align: top;\n",
       "    }\n",
       "\n",
       "    .dataframe thead th {\n",
       "        text-align: right;\n",
       "    }\n",
       "</style>\n",
       "<table border=\"1\" class=\"dataframe\">\n",
       "  <thead>\n",
       "    <tr style=\"text-align: right;\">\n",
       "      <th></th>\n",
       "      <th>mpg</th>\n",
       "      <th>cylinders</th>\n",
       "      <th>displacement</th>\n",
       "      <th>...</th>\n",
       "      <th>year</th>\n",
       "      <th>origin</th>\n",
       "      <th>name</th>\n",
       "    </tr>\n",
       "  </thead>\n",
       "  <tbody>\n",
       "    <tr>\n",
       "      <th>32</th>\n",
       "      <td>25.0</td>\n",
       "      <td>4</td>\n",
       "      <td>98.0</td>\n",
       "      <td>...</td>\n",
       "      <td>71</td>\n",
       "      <td>1</td>\n",
       "      <td>ford pinto</td>\n",
       "    </tr>\n",
       "    <tr>\n",
       "      <th>126</th>\n",
       "      <td>21.0</td>\n",
       "      <td>6</td>\n",
       "      <td>200.0</td>\n",
       "      <td>...</td>\n",
       "      <td>74</td>\n",
       "      <td>1</td>\n",
       "      <td>ford maverick</td>\n",
       "    </tr>\n",
       "    <tr>\n",
       "      <th>330</th>\n",
       "      <td>40.9</td>\n",
       "      <td>4</td>\n",
       "      <td>85.0</td>\n",
       "      <td>...</td>\n",
       "      <td>80</td>\n",
       "      <td>2</td>\n",
       "      <td>renault lecar deluxe</td>\n",
       "    </tr>\n",
       "    <tr>\n",
       "      <th>336</th>\n",
       "      <td>23.6</td>\n",
       "      <td>4</td>\n",
       "      <td>140.0</td>\n",
       "      <td>...</td>\n",
       "      <td>80</td>\n",
       "      <td>1</td>\n",
       "      <td>ford mustang cobra</td>\n",
       "    </tr>\n",
       "    <tr>\n",
       "      <th>354</th>\n",
       "      <td>34.5</td>\n",
       "      <td>4</td>\n",
       "      <td>100.0</td>\n",
       "      <td>...</td>\n",
       "      <td>81</td>\n",
       "      <td>2</td>\n",
       "      <td>renault 18i</td>\n",
       "    </tr>\n",
       "    <tr>\n",
       "      <th>374</th>\n",
       "      <td>23.0</td>\n",
       "      <td>4</td>\n",
       "      <td>151.0</td>\n",
       "      <td>...</td>\n",
       "      <td>82</td>\n",
       "      <td>1</td>\n",
       "      <td>amc concord dl</td>\n",
       "    </tr>\n",
       "  </tbody>\n",
       "</table>\n",
       "<p>6 rows × 9 columns</p>\n",
       "</div>"
      ],
      "text/plain": [
       "      mpg  cylinders  displacement  ...  year  origin                  name\n",
       "32   25.0          4          98.0  ...    71       1            ford pinto\n",
       "126  21.0          6         200.0  ...    74       1         ford maverick\n",
       "330  40.9          4          85.0  ...    80       2  renault lecar deluxe\n",
       "336  23.6          4         140.0  ...    80       1    ford mustang cobra\n",
       "354  34.5          4         100.0  ...    81       2           renault 18i\n",
       "374  23.0          4         151.0  ...    82       1        amc concord dl\n",
       "\n",
       "[6 rows x 9 columns]"
      ]
     },
     "execution_count": 34,
     "metadata": {},
     "output_type": "execute_result"
    }
   ],
   "source": [
    "# The column horsepower has been converted into float64 type. We can verify if some of the rows contain null values in \n",
    "# horsepower column. This can be done by using isnull() method on the DataFrame.\n",
    "\n",
    "autos[autos.horsepower.isnull()]"
   ]
  },
  {
   "cell_type": "code",
   "execution_count": 35,
   "id": "1706ece6",
   "metadata": {},
   "outputs": [],
   "source": [
    "# there are 6 rows which contain null values these rows can be dropped from the dataframe using dropna() method.\n",
    "# Dropna() method removes all rows with NaN values.\n",
    "\n",
    "autos = autos.dropna(subset = ['horsepower'])"
   ]
  },
  {
   "cell_type": "code",
   "execution_count": 36,
   "id": "55afb7ea",
   "metadata": {},
   "outputs": [
    {
     "data": {
      "text/html": [
       "<div>\n",
       "<style scoped>\n",
       "    .dataframe tbody tr th:only-of-type {\n",
       "        vertical-align: middle;\n",
       "    }\n",
       "\n",
       "    .dataframe tbody tr th {\n",
       "        vertical-align: top;\n",
       "    }\n",
       "\n",
       "    .dataframe thead th {\n",
       "        text-align: right;\n",
       "    }\n",
       "</style>\n",
       "<table border=\"1\" class=\"dataframe\">\n",
       "  <thead>\n",
       "    <tr style=\"text-align: right;\">\n",
       "      <th></th>\n",
       "      <th>mpg</th>\n",
       "      <th>cylinders</th>\n",
       "      <th>displacement</th>\n",
       "      <th>...</th>\n",
       "      <th>year</th>\n",
       "      <th>origin</th>\n",
       "      <th>name</th>\n",
       "    </tr>\n",
       "  </thead>\n",
       "  <tbody>\n",
       "  </tbody>\n",
       "</table>\n",
       "<p>0 rows × 9 columns</p>\n",
       "</div>"
      ],
      "text/plain": [
       "Empty DataFrame\n",
       "Columns: [mpg, cylinders, displacement, horsepower, weight, acceleration, year, origin, name]\n",
       "Index: []\n",
       "\n",
       "[0 rows x 9 columns]"
      ]
     },
     "execution_count": 36,
     "metadata": {},
     "output_type": "execute_result"
    }
   ],
   "source": [
    "# For verifying \n",
    "autos[autos.horsepower.isnull()]"
   ]
  },
  {
   "cell_type": "markdown",
   "id": "cd51247a",
   "metadata": {},
   "source": [
    "### Drawing Plots"
   ]
  },
  {
   "cell_type": "markdown",
   "id": "9cd424a9",
   "metadata": {},
   "source": [
    "Matplotlib is a Python 2D plotting library and most widely used library for data visualization. It provides extensive set of \n",
    "plotting APIs to create various plots such as scattered, bar, box, and distribution plots with custom styling and annotation.\n",
    "<br/>\n",
    "<a href = \"https://matplotlib.org/\">Matplotlib_documentation</a>\n",
    "<br/>\n",
    "Seaborn is also a Python data visualization library based on matplotlib. It provides a high - level interface for drawing\n",
    "innovative and informative statistical charts.\n",
    "<br/>\n",
    "<a href = \"https://seaborn.pydata.org/\">Seaborn_documentation</a>"
   ]
  },
  {
   "cell_type": "code",
   "execution_count": 37,
   "id": "fb432ae7",
   "metadata": {},
   "outputs": [],
   "source": [
    "import matplotlib.pyplot as plt\n",
    "import seaborn as sn\n",
    "%matplotlib inline\n",
    "import pandas as pd"
   ]
  },
  {
   "cell_type": "markdown",
   "id": "5c8468ff",
   "metadata": {},
   "source": [
    "### Bar Chart"
   ]
  },
  {
   "cell_type": "markdown",
   "id": "4838b0d7",
   "metadata": {},
   "source": [
    "Bar chart is a frequency chart for qualitative variable (or categorical variable). Bar Chart can be used to assess the most\n",
    "occurring and least occurring categories within a dataset. \n",
    "To draw a bar chart, call barplot() of seaborn library. The DataFrame should be passed in the parameter data."
   ]
  },
  {
   "cell_type": "code",
   "execution_count": 38,
   "id": "c1d0cda1",
   "metadata": {},
   "outputs": [
    {
     "data": {
      "text/plain": [
       "<Axes: xlabel='Runs', ylabel='SR'>"
      ]
     },
     "execution_count": 38,
     "metadata": {},
     "output_type": "execute_result"
    },
    {
     "data": {
      "image/png": "[encoded data removed]",
      "text/plain": [
       "<Figure size 640x480 with 1 Axes>"
      ]
     },
     "metadata": {},
     "output_type": "display_data"
    }
   ],
   "source": [
    "sn.barplot(x = 'Runs', y = 'SR', data = Runs_by_SR)"
   ]
  },
  {
   "cell_type": "code",
   "execution_count": 39,
   "id": "f214b6b4",
   "metadata": {},
   "outputs": [
    {
     "data": {
      "text/plain": [
       "<Axes: xlabel='SR', ylabel='Runs_by_SR_inns'>"
      ]
     },
     "execution_count": 39,
     "metadata": {},
     "output_type": "execute_result"
    },
    {
     "data": {
      "image/png": "[encoded data removed]",
      "text/plain": [
       "<Figure size 640x480 with 1 Axes>"
      ]
     },
     "metadata": {},
     "output_type": "display_data"
    }
   ],
   "source": [
    "# The parameter hue takes the third variable as parameter.\n",
    "\n",
    "sn.barplot(x = 'SR', y = 'Runs_by_SR_inns', hue = 'Inns', data = Runs_comparison)"
   ]
  },
  {
   "cell_type": "markdown",
   "id": "470e707e",
   "metadata": {},
   "source": [
    "### Histogram"
   ]
  },
  {
   "cell_type": "markdown",
   "id": "78470bcc",
   "metadata": {},
   "source": [
    "A historgram is a plot that shows the frequency distribution of a set of continuous variable. Histogram gives an insight into\n",
    "the underlying distribution(e.g., normal distribution) of the variable, ooutliers, skewness etc. <br/>\n",
    "\n",
    "To draw a histogram, invoke hist() method of matplotlib library."
   ]
  },
  {
   "cell_type": "code",
   "execution_count": 40,
   "id": "6921f13a",
   "metadata": {},
   "outputs": [
    {
     "data": {
      "text/plain": [
       "(array([81., 19., 14., 11.,  7.,  2.,  7.,  3.,  1.,  4.]),\n",
       " array([  0. ,  63.5, 127. , 190.5, 254. , 317.5, 381. , 444.5, 508. ,\n",
       "        571.5, 635. ]),\n",
       " <BarContainer object of 10 artists>)"
      ]
     },
     "execution_count": 40,
     "metadata": {},
     "output_type": "execute_result"
    },
    {
     "data": {
      "image/png": "[encoded data removed]",
      "text/plain": [
       "<Figure size 640x480 with 1 Axes>"
      ]
     },
     "metadata": {},
     "output_type": "display_data"
    }
   ],
   "source": [
    "plt.hist(ipl_perform_df['Runs'])"
   ]
  },
  {
   "cell_type": "markdown",
   "id": "9396ad50",
   "metadata": {},
   "source": [
    "The above histogram shows that 'Runs' is right Skewed. Most players have runs 0-200, whereas very few players have runs more than 200."
   ]
  },
  {
   "cell_type": "code",
   "execution_count": 41,
   "id": "79c61364",
   "metadata": {},
   "outputs": [
    {
     "data": {
      "text/plain": [
       "(array([63., 18., 13.,  6., 10.,  4.,  3.,  8.,  3.,  4.,  0.,  2.,  5.,\n",
       "         2.,  0.,  3.,  1.,  0.,  1.,  3.]),\n",
       " array([  0.  ,  31.75,  63.5 ,  95.25, 127.  , 158.75, 190.5 , 222.25,\n",
       "        254.  , 285.75, 317.5 , 349.25, 381.  , 412.75, 444.5 , 476.25,\n",
       "        508.  , 539.75, 571.5 , 603.25, 635.  ]),\n",
       " <BarContainer object of 20 artists>)"
      ]
     },
     "execution_count": 41,
     "metadata": {},
     "output_type": "execute_result"
    },
    {
     "data": {
      "image/png": "[encoded data removed]",
      "text/plain": [
       "<Figure size 640x480 with 1 Axes>"
      ]
     },
     "metadata": {},
     "output_type": "display_data"
    }
   ],
   "source": [
    "# By defualt it creates 10 bins in the histogram. To create more bins, the bins parameter can be set in the hist() method.\n",
    "\n",
    "plt.hist(ipl_perform_df['Runs'], bins = 20)"
   ]
  },
  {
   "cell_type": "markdown",
   "id": "2d910154",
   "metadata": {},
   "source": [
    "### Distribution of Density Plot"
   ]
  },
  {
   "cell_type": "markdown",
   "id": "099fb855",
   "metadata": {},
   "source": [
    "A distribution or density plot depicts the distribution of data over a continuous interval. Density plot is like smoothed \n",
    "histogram and visualizes distribution of data over a continuous interval. So, a density plot also gives insight into what might\n",
    "be the distribution of the population."
   ]
  },
  {
   "cell_type": "code",
   "execution_count": 42,
   "id": "267474a1",
   "metadata": {},
   "outputs": [
    {
     "name": "stderr",
     "output_type": "stream",
     "text": [
      "C:\\Users\\NANDAN KUMAR\\AppData\\Local\\Temp\\ipykernel_3140\\1669423625.py:3: UserWarning: \n",
      "\n",
      "`distplot` is a deprecated function and will be removed in seaborn v0.14.0.\n",
      "\n",
      "Please adapt your code to use either `displot` (a figure-level function with\n",
      "similar flexibility) or `histplot` (an axes-level function for histograms).\n",
      "\n",
      "For a guide to updating your code to use the new functions, please see\n",
      "https://gist.github.com/mwaskom/de44147ed2974457ad6372750bbe5751\n",
      "\n",
      "  sn.distplot(ipl_perform_df['Runs']);\n"
     ]
    },
    {
     "data": {
      "image/png": "[encoded data removed]",
      "text/plain": [
       "<Figure size 640x480 with 1 Axes>"
      ]
     },
     "metadata": {},
     "output_type": "display_data"
    }
   ],
   "source": [
    "# To draw a distibution plot, we can use distplot() of seaborn library. \n",
    "\n",
    "sn.distplot(ipl_perform_df['Runs']);"
   ]
  },
  {
   "cell_type": "markdown",
   "id": "265fee02",
   "metadata": {},
   "source": [
    "### Box Plot"
   ]
  },
  {
   "cell_type": "markdown",
   "id": "42b1f981",
   "metadata": {},
   "source": [
    "Box plot (aka Box and Whisker plot) is a graphical representation of numerical data that understand the variability of the data \n",
    "and the existence of outliers. \n",
    "Box plot is designed by identifying the following descriptive statistics: </br>\n",
    "    1. Lower quartile (1st quartile), median and upper quartile (3rd quartile). </br>\n",
    "    2. Lowest and highest values. </br>\n",
    "    3. Inter quartile range (IQR). </br>\n",
    "    \n",
    "Box plot is constructed using IQR, minimum and maximum values, IQR is the distance between the 3rd quatile and 1st quartile.\n",
    "The length of the box is equivalent to IQR. </br>\n",
    "\n",
    "To draw the box plot, call boxplot() of seaborn library."
   ]
  },
  {
   "cell_type": "code",
   "execution_count": 43,
   "id": "6cb1f92f",
   "metadata": {},
   "outputs": [
    {
     "data": {
      "image/png": "[encoded data removed]",
      "text/plain": [
       "<Figure size 640x480 with 1 Axes>"
      ]
     },
     "metadata": {},
     "output_type": "display_data"
    }
   ],
   "source": [
    "box = sn.boxplot(ipl_perform_df['Runs']);"
   ]
  },
  {
   "cell_type": "code",
   "execution_count": 44,
   "id": "e4cf0cca",
   "metadata": {},
   "outputs": [
    {
     "data": {
      "image/png": "[encoded data removed]",
      "text/plain": [
       "<Figure size 640x480 with 1 Axes>"
      ]
     },
     "metadata": {},
     "output_type": "display_data"
    }
   ],
   "source": [
    "# To Obtain min, max, 25 percentile(1st quartile) and 75 percentile (3rd quartile) values in the boxplot, boxplot() method\n",
    "# of matplotlib can be used. \n",
    "\n",
    "box = plt.boxplot(ipl_perform_df['Runs']);"
   ]
  },
  {
   "cell_type": "code",
   "execution_count": 45,
   "id": "9b2e362d",
   "metadata": {},
   "outputs": [
    {
     "data": {
      "text/plain": [
       "[0, 383]"
      ]
     },
     "execution_count": 45,
     "metadata": {},
     "output_type": "execute_result"
    }
   ],
   "source": [
    "# The caps key in box variable returns the min and max values of the distribution.\n",
    "\n",
    "[item.get_ydata()[0] for item in box['caps']]"
   ]
  },
  {
   "cell_type": "code",
   "execution_count": 46,
   "id": "a55a6227",
   "metadata": {},
   "outputs": [
    {
     "data": {
      "text/plain": [
       "[10.0, 160.0]"
      ]
     },
     "execution_count": 46,
     "metadata": {},
     "output_type": "execute_result"
    }
   ],
   "source": [
    "# The whiskers key in box variable returns the values of the distribution at 25 and 75 quartiles.\n",
    "\n",
    "[item.get_ydata()[0] for item in box['whiskers']]"
   ]
  },
  {
   "cell_type": "markdown",
   "id": "daeef25b",
   "metadata": {},
   "source": [
    "So, inter-quartile range(IQR) is 160 - 10 = 150."
   ]
  },
  {
   "cell_type": "code",
   "execution_count": 47,
   "id": "337a0ada",
   "metadata": {},
   "outputs": [
    {
     "data": {
      "text/plain": [
       "[49.0]"
      ]
     },
     "execution_count": 47,
     "metadata": {},
     "output_type": "execute_result"
    }
   ],
   "source": [
    "# The medians key in the box variable returns the median value of the distribution. \n",
    "\n",
    "[item.get_ydata()[0] for item in box['medians']]"
   ]
  },
  {
   "cell_type": "code",
   "execution_count": 48,
   "id": "06d18b5b",
   "metadata": {},
   "outputs": [
    {
     "data": {
      "text/html": [
       "<div>\n",
       "<style scoped>\n",
       "    .dataframe tbody tr th:only-of-type {\n",
       "        vertical-align: middle;\n",
       "    }\n",
       "\n",
       "    .dataframe tbody tr th {\n",
       "        vertical-align: top;\n",
       "    }\n",
       "\n",
       "    .dataframe thead th {\n",
       "        text-align: right;\n",
       "    }\n",
       "</style>\n",
       "<table border=\"1\" class=\"dataframe\">\n",
       "  <thead>\n",
       "    <tr style=\"text-align: right;\">\n",
       "      <th></th>\n",
       "      <th>Player</th>\n",
       "      <th>Avg</th>\n",
       "      <th>Runs</th>\n",
       "    </tr>\n",
       "  </thead>\n",
       "  <tbody>\n",
       "    <tr>\n",
       "      <th>0</th>\n",
       "      <td>Ruturaj Gaikwad</td>\n",
       "      <td>45.35</td>\n",
       "      <td>635</td>\n",
       "    </tr>\n",
       "    <tr>\n",
       "      <th>1</th>\n",
       "      <td>Faf du Plessis</td>\n",
       "      <td>45.21</td>\n",
       "      <td>633</td>\n",
       "    </tr>\n",
       "    <tr>\n",
       "      <th>2</th>\n",
       "      <td>KL Rahul</td>\n",
       "      <td>62.60</td>\n",
       "      <td>626</td>\n",
       "    </tr>\n",
       "    <tr>\n",
       "      <th>3</th>\n",
       "      <td>Shikhar Dhawan</td>\n",
       "      <td>39.13</td>\n",
       "      <td>587</td>\n",
       "    </tr>\n",
       "    <tr>\n",
       "      <th>4</th>\n",
       "      <td>Glenn Maxwell</td>\n",
       "      <td>42.75</td>\n",
       "      <td>513</td>\n",
       "    </tr>\n",
       "    <tr>\n",
       "      <th>5</th>\n",
       "      <td>Sanju Samson</td>\n",
       "      <td>40.33</td>\n",
       "      <td>484</td>\n",
       "    </tr>\n",
       "    <tr>\n",
       "      <th>6</th>\n",
       "      <td>Prithvi Shaw</td>\n",
       "      <td>31.93</td>\n",
       "      <td>479</td>\n",
       "    </tr>\n",
       "    <tr>\n",
       "      <th>7</th>\n",
       "      <td>Shubman Gill</td>\n",
       "      <td>28.11</td>\n",
       "      <td>478</td>\n",
       "    </tr>\n",
       "    <tr>\n",
       "      <th>8</th>\n",
       "      <td>Mayank Agarwal</td>\n",
       "      <td>40.09</td>\n",
       "      <td>441</td>\n",
       "    </tr>\n",
       "    <tr>\n",
       "      <th>9</th>\n",
       "      <td>Rishabh Pant</td>\n",
       "      <td>34.91</td>\n",
       "      <td>419</td>\n",
       "    </tr>\n",
       "    <tr>\n",
       "      <th>10</th>\n",
       "      <td>Devdutt Padikkal</td>\n",
       "      <td>31.61</td>\n",
       "      <td>411</td>\n",
       "    </tr>\n",
       "    <tr>\n",
       "      <th>11</th>\n",
       "      <td>Virat Kohli</td>\n",
       "      <td>28.92</td>\n",
       "      <td>405</td>\n",
       "    </tr>\n",
       "    <tr>\n",
       "      <th>12</th>\n",
       "      <td>Rahul Tripathi</td>\n",
       "      <td>28.35</td>\n",
       "      <td>397</td>\n",
       "    </tr>\n",
       "  </tbody>\n",
       "</table>\n",
       "</div>"
      ],
      "text/plain": [
       "              Player    Avg  Runs\n",
       "0    Ruturaj Gaikwad  45.35   635\n",
       "1     Faf du Plessis  45.21   633\n",
       "2           KL Rahul  62.60   626\n",
       "3     Shikhar Dhawan  39.13   587\n",
       "4      Glenn Maxwell  42.75   513\n",
       "5       Sanju Samson  40.33   484\n",
       "6       Prithvi Shaw  31.93   479\n",
       "7       Shubman Gill  28.11   478\n",
       "8     Mayank Agarwal  40.09   441\n",
       "9       Rishabh Pant  34.91   419\n",
       "10  Devdutt Padikkal  31.61   411\n",
       "11       Virat Kohli  28.92   405\n",
       "12    Rahul Tripathi  28.35   397"
      ]
     },
     "execution_count": 48,
     "metadata": {},
     "output_type": "execute_result"
    }
   ],
   "source": [
    "# Previous two figures shows that some of the players have Runs more than 383, which seems be outliers. Let us find out the \n",
    "# player names.\n",
    "\n",
    "ipl_perform_df[ipl_perform_df['Runs'] > 383][['Player', 'Avg', 'Runs']]"
   ]
  },
  {
   "cell_type": "markdown",
   "id": "f8331308",
   "metadata": {},
   "source": [
    "The Runs for the above players seems to be outlier considering what is paid to other players."
   ]
  },
  {
   "cell_type": "markdown",
   "id": "99e1f673",
   "metadata": {},
   "source": [
    "### Comparing Distributions"
   ]
  },
  {
   "cell_type": "markdown",
   "id": "a65b8a00",
   "metadata": {},
   "source": [
    "The distribution for different categories can be compared by overlapping the distributions.\n",
    "For example, the Runs of players with and without the Not Out can be compared as below."
   ]
  },
  {
   "cell_type": "code",
   "execution_count": 49,
   "id": "0ecf3ab2",
   "metadata": {},
   "outputs": [
    {
     "name": "stderr",
     "output_type": "stream",
     "text": [
      "C:\\Users\\NANDAN KUMAR\\AppData\\Local\\Temp\\ipykernel_3140\\3052348555.py:1: UserWarning: \n",
      "\n",
      "`distplot` is a deprecated function and will be removed in seaborn v0.14.0.\n",
      "\n",
      "Please adapt your code to use either `displot` (a figure-level function with\n",
      "similar flexibility) or `histplot` (an axes-level function for histograms).\n",
      "\n",
      "For a guide to updating your code to use the new functions, please see\n",
      "https://gist.github.com/mwaskom/de44147ed2974457ad6372750bbe5751\n",
      "\n",
      "  sn.distplot(ipl_perform_df[ipl_perform_df['NO'] > 1]\n",
      "C:\\Users\\NANDAN KUMAR\\AppData\\Local\\Temp\\ipykernel_3140\\3052348555.py:5: UserWarning: \n",
      "\n",
      "`distplot` is a deprecated function and will be removed in seaborn v0.14.0.\n",
      "\n",
      "Please adapt your code to use either `displot` (a figure-level function with\n",
      "similar flexibility) or `histplot` (an axes-level function for histograms).\n",
      "\n",
      "For a guide to updating your code to use the new functions, please see\n",
      "https://gist.github.com/mwaskom/de44147ed2974457ad6372750bbe5751\n",
      "\n",
      "  sn.distplot(ipl_perform_df[ipl_perform_df['NO'] <= 1]\n"
     ]
    },
    {
     "data": {
      "text/plain": [
       "<matplotlib.legend.Legend at 0x23be7667580>"
      ]
     },
     "execution_count": 49,
     "metadata": {},
     "output_type": "execute_result"
    },
    {
     "data": {
      "image/png": "[encoded data removed]",
      "text/plain": [
       "<Figure size 640x480 with 1 Axes>"
      ]
     },
     "metadata": {},
     "output_type": "display_data"
    }
   ],
   "source": [
    "sn.distplot(ipl_perform_df[ipl_perform_df['NO'] > 1]\n",
    "           ['Runs'],\n",
    "           color = 'y',\n",
    "           label = 'Not Out More than 1 time')\n",
    "sn.distplot(ipl_perform_df[ipl_perform_df['NO'] <= 1]\n",
    "           ['Runs'],\n",
    "           color = 'r',\n",
    "           label = 'Not out less than 2 time');\n",
    "plt.legend()"
   ]
  },
  {
   "cell_type": "code",
   "execution_count": 50,
   "id": "1f9d0c76",
   "metadata": {},
   "outputs": [
    {
     "data": {
      "image/png": "[encoded data removed]",
      "text/plain": [
       "<Figure size 640x480 with 1 Axes>"
      ]
     },
     "metadata": {},
     "output_type": "display_data"
    }
   ],
   "source": [
    "# Similarly, the distributions can be compared using box plots. \n",
    "\n",
    "sn.boxplot(x = 'NO', y = 'Runs', data = ipl_perform_df);"
   ]
  },
  {
   "cell_type": "markdown",
   "id": "6896da8b",
   "metadata": {},
   "source": [
    "Few Observations from the plot:- More times the player being Not Out, More Runs he scored (which is obvious, but still our plot tells the same means this is correct intuition). "
   ]
  },
  {
   "cell_type": "markdown",
   "id": "3ab80ccc",
   "metadata": {},
   "source": [
    "### Scatter Plot"
   ]
  },
  {
   "cell_type": "markdown",
   "id": "5549bddd",
   "metadata": {},
   "source": [
    "In a scatter plot, the values of two variables are plotted along two axes and resulting pattern can reveal correlation present between the variables, if any.\n",
    "The relationship could be linear or non-linear.\n",
    "Scatter plot are used during regression model building to decide of the initial model, that is whether to include a variable in a regression model or not."
   ]
  },
  {
   "cell_type": "code",
   "execution_count": 51,
   "id": "f26d7261",
   "metadata": {},
   "outputs": [
    {
     "data": {
      "text/plain": [
       "Text(0.5, 1.0, 'Relationship between Runs and Avg of players')"
      ]
     },
     "execution_count": 51,
     "metadata": {},
     "output_type": "execute_result"
    },
    {
     "data": {
      "image/png": "[encoded data removed]",
      "text/plain": [
       "<Figure size 640x480 with 1 Axes>"
      ]
     },
     "metadata": {},
     "output_type": "display_data"
    }
   ],
   "source": [
    "plt.scatter(x = ipl_perform_df['Runs'], y = ipl_perform_df['Avg']);\n",
    "plt.xlabel('Runs')\n",
    "plt.ylabel('Avg')\n",
    "plt.title('Relationship between Runs and Avg of players')"
   ]
  },
  {
   "cell_type": "code",
   "execution_count": 52,
   "id": "f47190c2",
   "metadata": {},
   "outputs": [
    {
     "data": {
      "image/png": "[encoded data removed]",
      "text/plain": [
       "<Figure size 640x480 with 1 Axes>"
      ]
     },
     "metadata": {},
     "output_type": "display_data"
    }
   ],
   "source": [
    "# To draw the direction of relationship between the variables, regplot() of seaborn can be used.\n",
    "\n",
    "sn.regplot(x = 'Runs',\n",
    "           y = 'Avg',\n",
    "           data = ipl_perform_df);"
   ]
  },
  {
   "cell_type": "markdown",
   "id": "85cd6175",
   "metadata": {},
   "source": [
    "This line in above plot shows that there is a positive correlation between number of Runs and the Average of the player"
   ]
  },
  {
   "cell_type": "markdown",
   "id": "c09effad",
   "metadata": {},
   "source": [
    "### Pair Plot"
   ]
  },
  {
   "cell_type": "markdown",
   "id": "cb6c3e49",
   "metadata": {},
   "source": [
    "If there are many variables, it is not convenient to draw scatter plots for each pair of variables to understand the relationship. So, a pair plot can be used to depict the relationship in a single diagram which can be plotted using pairplot() method."
   ]
  },
  {
   "cell_type": "code",
   "execution_count": 53,
   "id": "5b71dd45",
   "metadata": {},
   "outputs": [
    {
     "name": "stderr",
     "output_type": "stream",
     "text": [
      "C:\\Users\\NANDAN KUMAR\\AppData\\Local\\Programs\\Python\\Python310\\lib\\site-packages\\seaborn\\axisgrid.py:2095: UserWarning: The `size` parameter has been renamed to `height`; please update your code.\n",
      "  warnings.warn(msg, UserWarning)\n",
      "C:\\Users\\NANDAN KUMAR\\AppData\\Local\\Programs\\Python\\Python310\\lib\\site-packages\\seaborn\\axisgrid.py:118: UserWarning: The figure layout has changed to tight\n",
      "  self._figure.tight_layout(*args, **kwargs)\n"
     ]
    },
    {
     "data": {
      "text/plain": [
       "<seaborn.axisgrid.PairGrid at 0x23be775d5a0>"
      ]
     },
     "execution_count": 53,
     "metadata": {},
     "output_type": "execute_result"
    },
    {
     "data": {
      "image/png": "[encoded data removed]",
      "text/plain": [
       "<Figure size 800x800 with 20 Axes>"
      ]
     },
     "metadata": {},
     "output_type": "display_data"
    }
   ],
   "source": [
    "# In this example, we will explore the relationship between four variables.\n",
    "\n",
    "influential_features = ['Runs', 'HS', 'Avg', 'SR']\n",
    "sn.pairplot(ipl_perform_df[influential_features], size = 2)"
   ]
  },
  {
   "cell_type": "markdown",
   "id": "c5f953b6",
   "metadata": {},
   "source": [
    "The plot is drawn like a matrix and each row and column is represented by a variable. Each cell depicts the relationship between two variables, represented by that row and column variable."
   ]
  },
  {
   "cell_type": "markdown",
   "id": "be502fcc",
   "metadata": {},
   "source": [
    "### Correlation and Heatmap"
   ]
  },
  {
   "cell_type": "markdown",
   "id": "0daca7f9",
   "metadata": {},
   "source": [
    "Correlation is used for measuring the strength and direction of the linear relationship between two continuous random variables X and Y. It is a statistical measure that indicates the extent to which two variables changes together. </br>\n",
    "A positive correlation means the variables increase or decrease together; </br>\n",
    "a negative correlation means if one variable increases, the other decreases. </br>\n",
    "\n",
    "     The correlation values lies between -1.0 and 1.0. "
   ]
  },
  {
   "cell_type": "code",
   "execution_count": 54,
   "id": "256eff81",
   "metadata": {},
   "outputs": [
    {
     "data": {
      "text/html": [
       "<div>\n",
       "<style scoped>\n",
       "    .dataframe tbody tr th:only-of-type {\n",
       "        vertical-align: middle;\n",
       "    }\n",
       "\n",
       "    .dataframe tbody tr th {\n",
       "        vertical-align: top;\n",
       "    }\n",
       "\n",
       "    .dataframe thead th {\n",
       "        text-align: right;\n",
       "    }\n",
       "</style>\n",
       "<table border=\"1\" class=\"dataframe\">\n",
       "  <thead>\n",
       "    <tr style=\"text-align: right;\">\n",
       "      <th></th>\n",
       "      <th>Runs</th>\n",
       "      <th>HS</th>\n",
       "      <th>Avg</th>\n",
       "      <th>SR</th>\n",
       "    </tr>\n",
       "  </thead>\n",
       "  <tbody>\n",
       "    <tr>\n",
       "      <th>Runs</th>\n",
       "      <td>1.000000</td>\n",
       "      <td>0.849990</td>\n",
       "      <td>0.734629</td>\n",
       "      <td>0.424327</td>\n",
       "    </tr>\n",
       "    <tr>\n",
       "      <th>HS</th>\n",
       "      <td>0.849990</td>\n",
       "      <td>1.000000</td>\n",
       "      <td>0.781527</td>\n",
       "      <td>0.554088</td>\n",
       "    </tr>\n",
       "    <tr>\n",
       "      <th>Avg</th>\n",
       "      <td>0.734629</td>\n",
       "      <td>0.781527</td>\n",
       "      <td>1.000000</td>\n",
       "      <td>0.571034</td>\n",
       "    </tr>\n",
       "    <tr>\n",
       "      <th>SR</th>\n",
       "      <td>0.424327</td>\n",
       "      <td>0.554088</td>\n",
       "      <td>0.571034</td>\n",
       "      <td>1.000000</td>\n",
       "    </tr>\n",
       "  </tbody>\n",
       "</table>\n",
       "</div>"
      ],
      "text/plain": [
       "          Runs        HS       Avg        SR\n",
       "Runs  1.000000  0.849990  0.734629  0.424327\n",
       "HS    0.849990  1.000000  0.781527  0.554088\n",
       "Avg   0.734629  0.781527  1.000000  0.571034\n",
       "SR    0.424327  0.554088  0.571034  1.000000"
      ]
     },
     "execution_count": 54,
     "metadata": {},
     "output_type": "execute_result"
    }
   ],
   "source": [
    "ipl_perform_df[influential_features].corr()"
   ]
  },
  {
   "cell_type": "code",
   "execution_count": 55,
   "id": "5208b53b",
   "metadata": {},
   "outputs": [
    {
     "data": {
      "image/png": "[encoded data removed]",
      "text/plain": [
       "<Figure size 640x480 with 2 Axes>"
      ]
     },
     "metadata": {},
     "output_type": "display_data"
    }
   ],
   "source": [
    "sn.heatmap(ipl_perform_df[influential_features].corr(), annot = True);"
   ]
  },
  {
   "cell_type": "markdown",
   "id": "4370cade",
   "metadata": {},
   "source": [
    "<p style = \"background-color:gray; color:white\">The color map scale is shown along the heatmap. Setting annot attribute to true prints the correlation values in each box of the heatmap and improves readability of the heatmap.</p>"
   ]
  },
  {
   "cell_type": "markdown",
   "id": "3210118a",
   "metadata": {},
   "source": [
    "<h3 style = \"font-size = 1rem\">THE END</h3>"
   ]
  },
  {
   "cell_type": "code",
   "execution_count": null,
   "id": "513e87fe",
   "metadata": {},
   "outputs": [],
   "source": []
  }
 ],
 "metadata": {
  "kernelspec": {
   "display_name": "Python 3 (ipykernel)",
   "language": "python",
   "name": "python3"
  },
  "language_info": {
   "codemirror_mode": {
    "name": "ipython",
    "version": 3
   },
   "file_extension": ".py",
   "mimetype": "text/x-python",
   "name": "python",
   "nbconvert_exporter": "python",
   "pygments_lexer": "ipython3",
   "version": "3.10.7"
  }
 },
 "nbformat": 4,
 "nbformat_minor": 5
}
